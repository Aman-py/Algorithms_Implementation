{
 "cells": [
  {
   "cell_type": "code",
   "execution_count": 2,
   "metadata": {},
   "outputs": [],
   "source": [
    "# Fibonaci Numbers\n",
    "\n",
    "'''A fibonaci number is f(n) which is always\n",
    "   is equal to sum of previus two numbers of \n",
    "   the same series we can dfine this something\n",
    "   like this \n",
    "       f(n) = f(n-1) + f(n-2)'''\n",
    "\n",
    "\n",
    "def fib(n):\n",
    "    \n",
    "    '''function to find fibonaci number'''\n",
    "    \n",
    "    if n ==0 or n == 1:\n",
    "        \n",
    "        return 1\n",
    "\n",
    "    else:\n",
    "        \n",
    "        return fib(n-1)+fib(n-2)"
   ]
  },
  {
   "cell_type": "code",
   "execution_count": 3,
   "metadata": {},
   "outputs": [
    {
     "name": "stdout",
     "output_type": "stream",
     "text": [
      "8\n"
     ]
    }
   ],
   "source": [
    "n = 5\n",
    "print(fib(n))"
   ]
  },
  {
   "cell_type": "code",
   "execution_count": 4,
   "metadata": {},
   "outputs": [
    {
     "name": "stdout",
     "output_type": "stream",
     "text": [
      "987\n"
     ]
    }
   ],
   "source": [
    "n = 15\n",
    "print(fib(n))"
   ]
  }
 ],
 "metadata": {
  "kernelspec": {
   "display_name": "Python 3",
   "language": "python",
   "name": "python3"
  },
  "language_info": {
   "codemirror_mode": {
    "name": "ipython",
    "version": 3
   },
   "file_extension": ".py",
   "mimetype": "text/x-python",
   "name": "python",
   "nbconvert_exporter": "python",
   "pygments_lexer": "ipython3",
   "version": "3.5.2"
  }
 },
 "nbformat": 4,
 "nbformat_minor": 2
}
