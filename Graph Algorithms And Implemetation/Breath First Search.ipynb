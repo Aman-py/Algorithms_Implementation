{
 "cells": [
  {
   "cell_type": "code",
   "execution_count": null,
   "metadata": {},
   "outputs": [],
   "source": [
    "#Adjacency List Presentation\n",
    "def graphL():\n",
    "    graph = {}\n",
    "    e = int(input('No. Of Edges: '))\n",
    "    typ = input('Type Of Graph: ')\n",
    "    chk = input('Weighted Or Non Weighted')\n",
    "    if chk =='W' and typ =='D':\n",
    "        for i in range(e):\n",
    "            n1,n2,v = map(int,input().split())\n",
    "            if n1 in graph.keys():\n",
    "                graph[n1].append([n2,v])\n",
    "            else:\n",
    "                graph[n1] = [[n2,v]]\n",
    "    elif chk =='W' and typ =='U':\n",
    "         for i in range(e):\n",
    "            n1,n2,v = map(int,input().split())\n",
    "            if n1 in graph.keys():\n",
    "                graph[n1].append([n2,v])\n",
    "            else:\n",
    "                graph[n1] = [[n2,v]]\n",
    "            if n2 in graph.keys():\n",
    "                graph[n2].append([n1,v])\n",
    "            else:\n",
    "                graph[n2] = [[n1,v]]\n",
    "    elif chk =='NW' and typ =='U':\n",
    "        for i in range(e):\n",
    "            n1,n2 = map(int,input().split())\n",
    "            if n1 in graph.keys():\n",
    "                graph[n1].append(n2)\n",
    "            else:\n",
    "                graph[n1] = [n2]\n",
    "            if n2 in graph.keys():\n",
    "                graph[n2].append(n1)\n",
    "            else:\n",
    "                graph[n2] = [n1]\n",
    "    elif chk =='NW' and typ =='D':\n",
    "        for i in range(e):\n",
    "            n1,n2 = map(int,input().split())\n",
    "            if n1 in graph.keys():\n",
    "                graph[n1].append(n2)\n",
    "            else:\n",
    "                graph[n1] = [n2]\n",
    "    return print(graph)\n",
    "graphL()"
   ]
  },
  {
   "cell_type": "code",
   "execution_count": null,
   "metadata": {},
   "outputs": [],
   "source": [
    "def bfs(graph):\n",
    "    vis = {}\n",
    "    l = len(graph.keys())\n",
    "    while vis.keys()<l:\n",
    "        "
   ]
  }
 ],
 "metadata": {
  "kernelspec": {
   "display_name": "Python 3",
   "language": "python",
   "name": "python3"
  },
  "language_info": {
   "codemirror_mode": {
    "name": "ipython",
    "version": 3
   },
   "file_extension": ".py",
   "mimetype": "text/x-python",
   "name": "python",
   "nbconvert_exporter": "python",
   "pygments_lexer": "ipython3",
   "version": "3.5.2"
  }
 },
 "nbformat": 4,
 "nbformat_minor": 2
}
