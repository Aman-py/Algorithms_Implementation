{
 "cells": [
  {
   "cell_type": "code",
   "execution_count": 6,
   "metadata": {},
   "outputs": [],
   "source": [
    "def oneaway(a,b):\n",
    "    p = len(a)\n",
    "    q = len(b)\n",
    "    m = 0\n",
    "    for i in range(min([p,q])):\n",
    "        if a[i] in b:\n",
    "            m+=1\n",
    "    if m == max([p,q])-1:\n",
    "        return True\n",
    "    else:\n",
    "        return False"
   ]
  },
  {
   "cell_type": "code",
   "execution_count": 14,
   "metadata": {},
   "outputs": [],
   "source": [
    "a = 'abcdef';b='bcgfae'\n",
    "result = oneaway(a,b)"
   ]
  },
  {
   "cell_type": "code",
   "execution_count": 15,
   "metadata": {},
   "outputs": [
    {
     "name": "stdout",
     "output_type": "stream",
     "text": [
      "True\n"
     ]
    }
   ],
   "source": [
    "print(result)"
   ]
  },
  {
   "cell_type": "code",
   "execution_count": 11,
   "metadata": {},
   "outputs": [],
   "source": [
    "def soneaway(a,b):\n",
    "    count = 0\n",
    "    p = len(a)\n",
    "    for i in range(p):\n",
    "        if a[i] != b[i]:\n",
    "            count+=1\n",
    "            if count>1:\n",
    "                return False\n",
    "    return True"
   ]
  },
  {
   "cell_type": "code",
   "execution_count": 16,
   "metadata": {},
   "outputs": [],
   "source": [
    "# assumption len(a) = len(b)+1\n",
    "def doneaway(a,b):\n",
    "    i = 0\n",
    "    count = 0\n",
    "    p = len(b)\n",
    "    while i<p:\n",
    "        if a[count+i] != b[i]:\n",
    "            count+=1\n",
    "            if count>1:\n",
    "                return False\n",
    "        else:\n",
    "            i+=1\n",
    "    return True"
   ]
  },
  {
   "cell_type": "code",
   "execution_count": 17,
   "metadata": {},
   "outputs": [],
   "source": [
    "def checkoneawayedit(a,b):\n",
    "    p=len(a);q=len(b)\n",
    "    if p-q >=2 or q-p >=2:\n",
    "        return False\n",
    "    if p ==q:\n",
    "        return soneaway(a,b)\n",
    "    elif p>q:\n",
    "        return doneaway(a,b)\n",
    "    else:\n",
    "        return doneaway(b,a)"
   ]
  },
  {
   "cell_type": "code",
   "execution_count": 19,
   "metadata": {},
   "outputs": [],
   "source": [
    "a = 'abcdef';b='bcgfae'\n",
    "result = checkoneawayedit(a,b)"
   ]
  },
  {
   "cell_type": "code",
   "execution_count": 20,
   "metadata": {},
   "outputs": [
    {
     "name": "stdout",
     "output_type": "stream",
     "text": [
      "False\n"
     ]
    }
   ],
   "source": [
    "print(result)"
   ]
  }
 ],
 "metadata": {
  "kernelspec": {
   "display_name": "Python 3",
   "language": "python",
   "name": "python3"
  },
  "language_info": {
   "codemirror_mode": {
    "name": "ipython",
    "version": 3
   },
   "file_extension": ".py",
   "mimetype": "text/x-python",
   "name": "python",
   "nbconvert_exporter": "python",
   "pygments_lexer": "ipython3",
   "version": "3.5.2"
  }
 },
 "nbformat": 4,
 "nbformat_minor": 2
}
