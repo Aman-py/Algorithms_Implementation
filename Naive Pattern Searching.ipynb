{
 "cells": [
  {
   "cell_type": "code",
   "execution_count": 9,
   "metadata": {},
   "outputs": [],
   "source": [
    "def nps(txt,pat):\n",
    "    m = len(txt)\n",
    "    n = len(pat)\n",
    "    for i in range(m-n):\n",
    "        for j in range(n):\n",
    "            if txt[i+j] != pat[j]:\n",
    "                break\n",
    "        if j ==n-1:\n",
    "            print('Match Found At Index',i)"
   ]
  },
  {
   "cell_type": "code",
   "execution_count": 10,
   "metadata": {},
   "outputs": [
    {
     "name": "stdout",
     "output_type": "stream",
     "text": [
      "Match Found At Index 0\n",
      "Match Found At Index 9\n",
      "Match Found At Index 13\n",
      "None\n"
     ]
    }
   ],
   "source": [
    "txt = 'AABAACAADAABAAABAA'\n",
    "pat = 'AABA'\n",
    "nps(txt,pat)"
   ]
  },
  {
   "cell_type": "code",
   "execution_count": 4,
   "metadata": {},
   "outputs": [
    {
     "data": {
      "text/plain": [
       "[]"
      ]
     },
     "execution_count": 4,
     "metadata": {},
     "output_type": "execute_result"
    }
   ],
   "source": [
    "# Geeks For Geeks Implementation\n",
    "# Python program for Naive Pattern Searching\n",
    "def search(pat, txt):\n",
    "    M = len(pat)\n",
    "    N = len(txt)\n",
    "    arr =[]\n",
    "    # A loop to slide pat[] one by one\n",
    "    for i in range(N-M + 1):\n",
    " \n",
    "        # For current index i, check for pattern match\n",
    "        for j in range(M):\n",
    "            if txt[i + j] != pat[j]:\n",
    "                break\n",
    " \n",
    "        if j == M: # if pat[0...M-1] = txt[i, i + 1, ...i + M-1]\n",
    "            arr.append(\"Pattern found at index\" + str(i))\n",
    "    return arr\n",
    "# Driver program to test the above function\n",
    "txt = \"AABAACAADAABAAABAA\"\n",
    "pat = \"AABA\"\n",
    "search (pat, txt)"
   ]
  },
  {
   "cell_type": "code",
   "execution_count": null,
   "metadata": {},
   "outputs": [],
   "source": []
  }
 ],
 "metadata": {
  "kernelspec": {
   "display_name": "Python 3",
   "language": "python",
   "name": "python3"
  },
  "language_info": {
   "codemirror_mode": {
    "name": "ipython",
    "version": 3
   },
   "file_extension": ".py",
   "mimetype": "text/x-python",
   "name": "python",
   "nbconvert_exporter": "python",
   "pygments_lexer": "ipython3",
   "version": "3.5.2"
  }
 },
 "nbformat": 4,
 "nbformat_minor": 2
}
