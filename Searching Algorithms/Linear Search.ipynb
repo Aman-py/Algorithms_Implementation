{
 "cells": [
  {
   "cell_type": "code",
   "execution_count": 8,
   "metadata": {},
   "outputs": [],
   "source": [
    "# Linear Searching Algorithms\n",
    "# Time Complexity = O(n)\n",
    "\n",
    "def search(arr,ele):\n",
    "    \n",
    "    '''Linear Search is naive searching\n",
    "       Technique it is used to search in \n",
    "       both types of array sorted and \n",
    "       unsorted'''\n",
    "    \n",
    "    for i in arr:\n",
    "        \n",
    "        if i == ele:\n",
    "            \n",
    "            return 'Index: '+str(arr.index(ele))+'  Element: '+str(ele)\n",
    "    \n",
    "    return \"Not Found\""
   ]
  },
  {
   "cell_type": "code",
   "execution_count": 9,
   "metadata": {},
   "outputs": [],
   "source": [
    "arr = list(range(845,235,-5))\n",
    "ele = 700"
   ]
  },
  {
   "cell_type": "code",
   "execution_count": 10,
   "metadata": {},
   "outputs": [],
   "source": [
    "result = search(arr,ele)"
   ]
  },
  {
   "cell_type": "code",
   "execution_count": 11,
   "metadata": {},
   "outputs": [
    {
     "name": "stdout",
     "output_type": "stream",
     "text": [
      "Index: 29  Element: 700\n"
     ]
    }
   ],
   "source": [
    "print(result)"
   ]
  }
 ],
 "metadata": {
  "kernelspec": {
   "display_name": "Python 3",
   "language": "python",
   "name": "python3"
  },
  "language_info": {
   "codemirror_mode": {
    "name": "ipython",
    "version": 3
   },
   "file_extension": ".py",
   "mimetype": "text/x-python",
   "name": "python",
   "nbconvert_exporter": "python",
   "pygments_lexer": "ipython3",
   "version": "3.5.2"
  }
 },
 "nbformat": 4,
 "nbformat_minor": 2
}
