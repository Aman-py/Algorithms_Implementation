{
 "cells": [
  {
   "cell_type": "markdown",
   "metadata": {},
   "source": [
    "# Peaks and Valleys\n",
    "In an array of integers, a \"peak\" is an element which is greater than or equal to\n",
    "the adjacent integers and a \"valley\" is an element which is less than or equal to the adjacent inte-\n",
    "gers. For example, in the array {5, 8, 6, 2, 3, 4, 6}, {8, 6} are peaks and {S, 2} are valleys. Given an array\n",
    "of integers, sort the array into an alternating sequence of peaks and valleys.\n",
    "\n",
    "```EXAMPLE\n",
    "Input: {5, 3, 1, 2, 3}\n",
    "Output: {5, 1, 3, 2, 3}```"
   ]
  },
  {
   "cell_type": "code",
   "execution_count": 7,
   "metadata": {},
   "outputs": [],
   "source": [
    "# This Problem is modified version of wave array and solution for this in O(n) time complexity with O(1) space complexity\n",
    "\n",
    "def peakValleys(inputArr):\n",
    "    \n",
    "    lnth = len(inputArr)\n",
    "    \n",
    "    if lnth < 2:\n",
    "        return inputArr\n",
    "    \n",
    "    \n",
    "    chk = True\n",
    "    \n",
    "    for i in range(1,lnth):\n",
    "        \n",
    "        if chk == True:\n",
    "            if inputArr[i-1]<inputArr[i]:\n",
    "                inputArr[i-1],inputArr[i] = inputArr[i],inputArr[i-1]\n",
    "            \n",
    "            chk = False\n",
    "        \n",
    "        elif chk == False:\n",
    "            if inputArr[i-1]>inputArr[i]:\n",
    "                inputArr[i-1],inputArr[i] = inputArr[i],inputArr[i-1]\n",
    "            \n",
    "            chk = True\n",
    "    \n",
    "    return inputArr"
   ]
  },
  {
   "cell_type": "code",
   "execution_count": 8,
   "metadata": {},
   "outputs": [],
   "source": [
    "arr = [5, 3, 1,2, 3]"
   ]
  },
  {
   "cell_type": "code",
   "execution_count": 9,
   "metadata": {},
   "outputs": [
    {
     "name": "stdout",
     "output_type": "stream",
     "text": [
      "[5, 1, 3, 2, 3]\n"
     ]
    }
   ],
   "source": [
    "print(peakValleys(arr))"
   ]
  },
  {
   "cell_type": "code",
   "execution_count": 12,
   "metadata": {},
   "outputs": [
    {
     "data": {
      "text/plain": [
       "[10, 11, 6, 14, 8, 9]"
      ]
     },
     "execution_count": 12,
     "metadata": {},
     "output_type": "execute_result"
    }
   ],
   "source": [
    "# Method To Generate Test Cases\n",
    "import random\n",
    "[i for i in random.sample(range(5,15),6)]"
   ]
  },
  {
   "cell_type": "markdown",
   "metadata": {},
   "source": [
    "# Search in Rotated Array\n",
    "Given a sorted array of n integers that has been rotated an unknown\n",
    "number of times, write code to find an element in the array. You may assume that the array was originally sorted in increasing order.\n",
    "\n",
    "```\n",
    "I/P: [15, 16, 19, 20, 25, 1, 3, 4, 5, 7, 10, 14] Find Index Of 5\n",
    "\n",
    "O/P: 8\n",
    "```"
   ]
  },
  {
   "cell_type": "code",
   "execution_count": 13,
   "metadata": {},
   "outputs": [],
   "source": [
    "def binarySearch (arr, l, r, x): \n",
    "  \n",
    "    if r >= l: \n",
    "  \n",
    "        mid = l + (r - l)/2\n",
    "  \n",
    "        if arr[mid] == x: \n",
    "            return mid \n",
    "        \n",
    "        elif arr[mid] > x: \n",
    "            return binarySearch(arr, l, mid-1, x) \n",
    "  \n",
    "        else: \n",
    "            return binarySearch(arr, mid + 1, r, x) \n",
    "  \n",
    "    else: \n",
    "        \n",
    "        return -1"
   ]
  },
  {
   "cell_type": "code",
   "execution_count": null,
   "metadata": {},
   "outputs": [],
   "source": [
    "def rotateSearch(arr,high,low,x):\n",
    "    \n",
    "    mid = low + (high - low)/2\n",
    "    \n",
    "    if arr[mid] == x:\n",
    "        return mid\n",
    "\n",
    "    if arr[low] == x:\n",
    "        return low\n",
    "    \n",
    "    if arr[high] == x:\n",
    "        return high\n",
    "    \n",
    "    if arr[mid] > x:\n",
    "        if arr[mid] > "
   ]
  },
  {
   "cell_type": "markdown",
   "metadata": {},
   "source": [
    "# Maximum And Value"
   ]
  },
  {
   "cell_type": "code",
   "execution_count": 11,
   "metadata": {},
   "outputs": [
    {
     "data": {
      "text/plain": [
       "2"
      ]
     },
     "execution_count": 11,
     "metadata": {},
     "output_type": "execute_result"
    }
   ],
   "source": [
    "1^3^1^2^3"
   ]
  },
  {
   "cell_type": "code",
   "execution_count": 5,
   "metadata": {},
   "outputs": [],
   "source": [
    "def check(pattern,arr,n):\n",
    "    \n",
    "    count = 0\n",
    "    \n",
    "    for i in range(n):\n",
    "        if pattern&arr[i] == pattern:\n",
    "            count +=1\n",
    "    return count\n",
    "\n",
    "def maxAndval(arr,n):\n",
    "    \n",
    "    res  = 0\n",
    "    count = 0\n",
    "    \n",
    "    for i in range(31,0,-1):\n",
    "        \n",
    "        count = check(res|1<<i,arr,n)\n",
    "        \n",
    "        if count >=2:\n",
    "            res |=(1<<i)\n",
    "            \n",
    "    return res"
   ]
  },
  {
   "cell_type": "code",
   "execution_count": 6,
   "metadata": {},
   "outputs": [],
   "source": [
    "arr=list(range(1,16))"
   ]
  },
  {
   "cell_type": "code",
   "execution_count": 7,
   "metadata": {},
   "outputs": [
    {
     "data": {
      "text/plain": [
       "14"
      ]
     },
     "execution_count": 7,
     "metadata": {},
     "output_type": "execute_result"
    }
   ],
   "source": [
    "maxAndval(arr,15)"
   ]
  },
  {
   "cell_type": "code",
   "execution_count": null,
   "metadata": {},
   "outputs": [],
   "source": []
  }
 ],
 "metadata": {
  "kernelspec": {
   "display_name": "Python 3",
   "language": "python",
   "name": "python3"
  },
  "language_info": {
   "codemirror_mode": {
    "name": "ipython",
    "version": 3
   },
   "file_extension": ".py",
   "mimetype": "text/x-python",
   "name": "python",
   "nbconvert_exporter": "python",
   "pygments_lexer": "ipython3",
   "version": "3.6.8"
  }
 },
 "nbformat": 4,
 "nbformat_minor": 2
}
