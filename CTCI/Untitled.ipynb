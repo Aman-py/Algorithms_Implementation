{
 "cells": [
  {
   "cell_type": "markdown",
   "metadata": {},
   "source": [
    "# Peaks and Valleys\n",
    "In an array of integers, a \"peak\" is an element which is greater than or equal to\n",
    "the adjacent integers and a \"valley\" is an element which is less than or equal to the adjacent inte-\n",
    "gers. For example, in the array {5, 8, 6, 2, 3, 4, 6}, {8, 6} are peaks and {S, 2} are valleys. Given an array\n",
    "of integers, sort the array into an alternating sequence of peaks and valleys.\n",
    "\n",
    "```EXAMPLE\n",
    "Input: {5, 3, 1, 2, 3}\n",
    "Output: {5, 1, 3, 2, 3}```"
   ]
  },
  {
   "cell_type": "code",
   "execution_count": 7,
   "metadata": {},
   "outputs": [],
   "source": [
    "# This Problem is modified version of wave array and solution for this in O(n) time complexity with O(1) space complexity\n",
    "\n",
    "def peakValleys(inputArr):\n",
    "    \n",
    "    lnth = len(inputArr)\n",
    "    \n",
    "    if lnth < 2:\n",
    "        return inputArr\n",
    "    \n",
    "    \n",
    "    chk = True\n",
    "    \n",
    "    for i in range(1,lnth):\n",
    "        \n",
    "        if chk == True:\n",
    "            if inputArr[i-1]<inputArr[i]:\n",
    "                inputArr[i-1],inputArr[i] = inputArr[i],inputArr[i-1]\n",
    "            \n",
    "            chk = False\n",
    "        \n",
    "        elif chk == False:\n",
    "            if inputArr[i-1]>inputArr[i]:\n",
    "                inputArr[i-1],inputArr[i] = inputArr[i],inputArr[i-1]\n",
    "            \n",
    "            chk = True\n",
    "    \n",
    "    return inputArr"
   ]
  },
  {
   "cell_type": "code",
   "execution_count": 8,
   "metadata": {},
   "outputs": [],
   "source": [
    "arr = [5, 3, 1,2, 3]"
   ]
  },
  {
   "cell_type": "code",
   "execution_count": 9,
   "metadata": {},
   "outputs": [
    {
     "name": "stdout",
     "output_type": "stream",
     "text": [
      "[5, 1, 3, 2, 3]\n"
     ]
    }
   ],
   "source": [
    "print(peakValleys(arr))"
   ]
  },
  {
   "cell_type": "code",
   "execution_count": null,
   "metadata": {},
   "outputs": [],
   "source": []
  }
 ],
 "metadata": {
  "kernelspec": {
   "display_name": "Python 3",
   "language": "python",
   "name": "python3"
  },
  "language_info": {
   "codemirror_mode": {
    "name": "ipython",
    "version": 3
   },
   "file_extension": ".py",
   "mimetype": "text/x-python",
   "name": "python",
   "nbconvert_exporter": "python",
   "pygments_lexer": "ipython3",
   "version": "3.6.8"
  }
 },
 "nbformat": 4,
 "nbformat_minor": 2
}
