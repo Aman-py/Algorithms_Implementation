{
 "cells": [
  {
   "cell_type": "markdown",
   "metadata": {},
   "source": [
    "<h1>Bitwise Hacks for Competitive Programming</h1>\n",
    "<h5> Reference = https://www.geeksforgeeks.org/bitwise-hacks-for-competitive-programming/ </h5>\n",
    "<p> Bitwise hacks for competitive programming are bit hacks which all implemented in python by myself in these hacks basics hacks are set bit,unset bit,toggling of bit and many more programs created."
   ]
  },
  {
   "cell_type": "code",
   "execution_count": 1,
   "metadata": {},
   "outputs": [],
   "source": [
    "# SET A BIT IN THE NUMBER n AT POSITION pos\n",
    "def setbit(num,pos):\n",
    "    \n",
    "    \"\"\"How to set a bit\n",
    "    in the number ‘num’\"\"\"\n",
    "    \n",
    "    num = num | (1<<pos)\n",
    "    return num"
   ]
  },
  {
   "cell_type": "code",
   "execution_count": 2,
   "metadata": {},
   "outputs": [
    {
     "data": {
      "text/plain": [
       "31"
      ]
     },
     "execution_count": 2,
     "metadata": {},
     "output_type": "execute_result"
    }
   ],
   "source": [
    "num = 29;pos = 1\n",
    "setbit(num,pos)"
   ]
  },
  {
   "cell_type": "code",
   "execution_count": 3,
   "metadata": {},
   "outputs": [],
   "source": [
    "# UNSET A BIT IN THE NUMBER num AT POSITION pos\n",
    "def unsetbit(num,pos):\n",
    "    \n",
    "    ''' How to unset/clear a bit at \n",
    "    n’th position in the number ‘num’'''\n",
    "    \n",
    "    num = num & (~(1<<pos))\n",
    "    \n",
    "    return num"
   ]
  },
  {
   "cell_type": "code",
   "execution_count": 4,
   "metadata": {},
   "outputs": [
    {
     "data": {
      "text/plain": [
       "15"
      ]
     },
     "execution_count": 4,
     "metadata": {},
     "output_type": "execute_result"
    }
   ],
   "source": [
    "num = 31;pos=4\n",
    "unsetbit(num,pos)"
   ]
  },
  {
   "cell_type": "code",
   "execution_count": 5,
   "metadata": {},
   "outputs": [],
   "source": [
    "# TOGGLING A BIT POSITION\n",
    "def toggle(num,pos):\n",
    "    \n",
    "    '''Toggling means to turn bit ‘on'(1) if it was \n",
    "    ‘off'(0) and to turn ‘off'(0) if it was ‘on'(1)\n",
    "    previously.We will be using ‘XOR’ operator here \n",
    "    which is this ‘^’. The reason behind ‘XOR’ \n",
    "    operator is because of its properties.'''\n",
    "    \n",
    "    num = num ^ (1<<pos)\n",
    "    \n",
    "    return num"
   ]
  },
  {
   "cell_type": "code",
   "execution_count": 6,
   "metadata": {},
   "outputs": [
    {
     "data": {
      "text/plain": [
       "27"
      ]
     },
     "execution_count": 6,
     "metadata": {},
     "output_type": "execute_result"
    }
   ],
   "source": [
    "n = 31;p = 2\n",
    "toggle(n,p)"
   ]
  },
  {
   "cell_type": "code",
   "execution_count": 14,
   "metadata": {},
   "outputs": [],
   "source": [
    "# Checking if bit at nth position is set or unset\n",
    "def check(num,pos):\n",
    "    \n",
    "    '''Checking if bit at nth\n",
    "    position is set or unset'''\n",
    "    \n",
    "    bit = num & (1<<pos)\n",
    "    \n",
    "    return bool(bit)"
   ]
  },
  {
   "cell_type": "code",
   "execution_count": 15,
   "metadata": {},
   "outputs": [
    {
     "data": {
      "text/plain": [
       "False"
      ]
     },
     "execution_count": 15,
     "metadata": {},
     "output_type": "execute_result"
    }
   ],
   "source": [
    "n= 27;p =2\n",
    "check(n,p)"
   ]
  },
  {
   "cell_type": "code",
   "execution_count": 17,
   "metadata": {},
   "outputs": [],
   "source": [
    "def compliment_of_1(num):\n",
    "    \n",
    "    '''Inverting every bit of \n",
    "    a number/1’s complement'''\n",
    "    \n",
    "    return ~num"
   ]
  },
  {
   "cell_type": "code",
   "execution_count": 18,
   "metadata": {},
   "outputs": [
    {
     "data": {
      "text/plain": [
       "-32"
      ]
     },
     "execution_count": 18,
     "metadata": {},
     "output_type": "execute_result"
    }
   ],
   "source": [
    "n = 31\n",
    "compliment_of_1(n)"
   ]
  },
  {
   "cell_type": "code",
   "execution_count": 19,
   "metadata": {},
   "outputs": [],
   "source": [
    "def compliment_of_2(num):\n",
    "    \n",
    "    '''Inverting every bit of \n",
    "    a number/2’s complement'''\n",
    "    \n",
    "    return -num"
   ]
  },
  {
   "cell_type": "code",
   "execution_count": 20,
   "metadata": {},
   "outputs": [
    {
     "data": {
      "text/plain": [
       "-31"
      ]
     },
     "execution_count": 20,
     "metadata": {},
     "output_type": "execute_result"
    }
   ],
   "source": [
    "n = 31\n",
    "compliment_of_2(n)"
   ]
  },
  {
   "cell_type": "code",
   "execution_count": 26,
   "metadata": {},
   "outputs": [],
   "source": [
    "def striplastbit(num):\n",
    "    \n",
    "    '''Stripping off the lowest set bit'''\n",
    "    \n",
    "    num=num&(num-1)\n",
    "    return num"
   ]
  },
  {
   "cell_type": "code",
   "execution_count": 29,
   "metadata": {},
   "outputs": [
    {
     "data": {
      "text/plain": [
       "30"
      ]
     },
     "execution_count": 29,
     "metadata": {},
     "output_type": "execute_result"
    }
   ],
   "source": [
    "n=31\n",
    "striplastbit(n)"
   ]
  },
  {
   "cell_type": "code",
   "execution_count": 30,
   "metadata": {},
   "outputs": [],
   "source": [
    "def lowestsetbit(num):\n",
    "    \n",
    "    '''Getting lowest set bit of a number'''\n",
    "    \n",
    "    low = num & (-num)\n",
    "    \n",
    "    return low"
   ]
  },
  {
   "cell_type": "code",
   "execution_count": 38,
   "metadata": {},
   "outputs": [
    {
     "data": {
      "text/plain": [
       "8"
      ]
     },
     "execution_count": 38,
     "metadata": {},
     "output_type": "execute_result"
    }
   ],
   "source": [
    "n = 8\n",
    "lowestsetbit(n)"
   ]
  }
 ],
 "metadata": {
  "kernelspec": {
   "display_name": "Python 3",
   "language": "python",
   "name": "python3"
  },
  "language_info": {
   "codemirror_mode": {
    "name": "ipython",
    "version": 3
   },
   "file_extension": ".py",
   "mimetype": "text/x-python",
   "name": "python",
   "nbconvert_exporter": "python",
   "pygments_lexer": "ipython3",
   "version": "3.5.2"
  }
 },
 "nbformat": 4,
 "nbformat_minor": 2
}
