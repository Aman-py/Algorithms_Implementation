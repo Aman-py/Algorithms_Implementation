{
 "cells": [
  {
   "cell_type": "code",
   "execution_count": 17,
   "metadata": {},
   "outputs": [],
   "source": [
    "# Source :: https://ivanyu.me/blog/2013/10/15/z-algorithm/\n",
    "def z_advanced(s):\n",
    "    \"\"\"An advanced computation of Z-values of a string.\"\"\"\n",
    " \n",
    "    Z = [0] * len(s)\n",
    "    Z[0] = len(s)\n",
    " \n",
    "    rt = 0\n",
    "    lt = 0\n",
    " \n",
    "    for k in range(1, len(s)):\n",
    "        if k > rt:\n",
    "            # If k is outside the current Z-box, do naive computation.\n",
    "            n = 0\n",
    "            while n + k < len(s) and s[n] == s[n+k]:\n",
    "                n += 1\n",
    "            Z[k] = n\n",
    "            if n > 0:\n",
    "                lt = k\n",
    "                rt = k+n-1\n",
    "        else:\n",
    "            # If k is inside the current Z-box, consider two cases.\n",
    " \n",
    "            p = k - lt  # Pair index.\n",
    "            right_part_len = rt - k + 1\n",
    " \n",
    "            if Z[p] < right_part_len:\n",
    "                Z[k] = Z[p]\n",
    "            else:\n",
    "                i = rt + 1\n",
    "                while i < len(s) and s[i] == s[i - k]:\n",
    "                    i += 1\n",
    "                Z[k] = i - k\n",
    " \n",
    "                lt = k\n",
    "                rt = i - 1\n",
    "    return Z"
   ]
  },
  {
   "cell_type": "code",
   "execution_count": 11,
   "metadata": {},
   "outputs": [],
   "source": [
    "txt = 'aabxaabxcaabxaabxay'\n",
    "result = z_advanced(txt)"
   ]
  },
  {
   "cell_type": "code",
   "execution_count": 13,
   "metadata": {},
   "outputs": [],
   "source": [
    "# Self Implemented\n",
    "def z(s):\n",
    "    Z = [len(s)]\n",
    " \n",
    "    for k in range(1, len(s)):\n",
    "        n = 0\n",
    "        while n + k < len(s) and s[n] == s[n + k]:\n",
    "            n += 1\n",
    "        Z.append(n)\n",
    " \n",
    "    return Z"
   ]
  },
  {
   "cell_type": "code",
   "execution_count": 18,
   "metadata": {},
   "outputs": [],
   "source": [
    "def patmatch(patt,txt):\n",
    "    m = len(patt)\n",
    "    con = patt+'$'+txt\n",
    "    zarr = z_advanced(con)\n",
    "    arr = []\n",
    "    while m in zarr:\n",
    "        k = zarr.index(m)\n",
    "        d = k-m-1\n",
    "        arr.append(d)\n",
    "    return arr"
   ]
  },
  {
   "cell_type": "code",
   "execution_count": 19,
   "metadata": {},
   "outputs": [
    {
     "ename": "KeyboardInterrupt",
     "evalue": "",
     "output_type": "error",
     "traceback": [
      "\u001b[0;31m---------------------------------------------------------------------------\u001b[0m",
      "\u001b[0;31mKeyboardInterrupt\u001b[0m                         Traceback (most recent call last)",
      "\u001b[0;32m<ipython-input-19-6ef7b36805be>\u001b[0m in \u001b[0;36m<module>\u001b[0;34m()\u001b[0m\n\u001b[1;32m      1\u001b[0m \u001b[0mpatt\u001b[0m \u001b[0;34m=\u001b[0m \u001b[0;34m\"GEEK\"\u001b[0m\u001b[0;34m\u001b[0m\u001b[0m\n\u001b[1;32m      2\u001b[0m \u001b[0mtxt\u001b[0m \u001b[0;34m=\u001b[0m \u001b[0;34m\"GEEKS FOR GEEKS\"\u001b[0m\u001b[0;34m\u001b[0m\u001b[0m\n\u001b[0;32m----> 3\u001b[0;31m \u001b[0mresult\u001b[0m \u001b[0;34m=\u001b[0m \u001b[0mpatmatch\u001b[0m\u001b[0;34m(\u001b[0m\u001b[0mpatt\u001b[0m\u001b[0;34m,\u001b[0m\u001b[0mtxt\u001b[0m\u001b[0;34m)\u001b[0m\u001b[0;34m\u001b[0m\u001b[0m\n\u001b[0m",
      "\u001b[0;32m<ipython-input-18-871acf98e7c7>\u001b[0m in \u001b[0;36mpatmatch\u001b[0;34m(patt, txt)\u001b[0m\n\u001b[1;32m      4\u001b[0m     \u001b[0mzarr\u001b[0m \u001b[0;34m=\u001b[0m \u001b[0mz_advanced\u001b[0m\u001b[0;34m(\u001b[0m\u001b[0mcon\u001b[0m\u001b[0;34m)\u001b[0m\u001b[0;34m\u001b[0m\u001b[0m\n\u001b[1;32m      5\u001b[0m     \u001b[0marr\u001b[0m \u001b[0;34m=\u001b[0m \u001b[0;34m[\u001b[0m\u001b[0;34m]\u001b[0m\u001b[0;34m\u001b[0m\u001b[0m\n\u001b[0;32m----> 6\u001b[0;31m     \u001b[0;32mwhile\u001b[0m \u001b[0mm\u001b[0m \u001b[0;32min\u001b[0m \u001b[0mzarr\u001b[0m\u001b[0;34m:\u001b[0m\u001b[0;34m\u001b[0m\u001b[0m\n\u001b[0m\u001b[1;32m      7\u001b[0m         \u001b[0mk\u001b[0m \u001b[0;34m=\u001b[0m \u001b[0mzarr\u001b[0m\u001b[0;34m.\u001b[0m\u001b[0mindex\u001b[0m\u001b[0;34m(\u001b[0m\u001b[0mm\u001b[0m\u001b[0;34m)\u001b[0m\u001b[0;34m\u001b[0m\u001b[0m\n\u001b[1;32m      8\u001b[0m         \u001b[0md\u001b[0m \u001b[0;34m=\u001b[0m \u001b[0mk\u001b[0m\u001b[0;34m-\u001b[0m\u001b[0mm\u001b[0m\u001b[0;34m-\u001b[0m\u001b[0;36m1\u001b[0m\u001b[0;34m\u001b[0m\u001b[0m\n",
      "\u001b[0;31mKeyboardInterrupt\u001b[0m: "
     ]
    }
   ],
   "source": [
    "patt = \"GEEK\"\n",
    "txt = \"GEEKS FOR GEEKS\"\n",
    "result = patmatch(patt,txt)"
   ]
  },
  {
   "cell_type": "code",
   "execution_count": null,
   "metadata": {},
   "outputs": [],
   "source": []
  }
 ],
 "metadata": {
  "kernelspec": {
   "display_name": "Python 3",
   "language": "python",
   "name": "python3"
  },
  "language_info": {
   "codemirror_mode": {
    "name": "ipython",
    "version": 3
   },
   "file_extension": ".py",
   "mimetype": "text/x-python",
   "name": "python",
   "nbconvert_exporter": "python",
   "pygments_lexer": "ipython3",
   "version": "3.5.2"
  }
 },
 "nbformat": 4,
 "nbformat_minor": 2
}
