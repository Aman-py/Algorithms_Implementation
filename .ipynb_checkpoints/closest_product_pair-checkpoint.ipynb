{
 "cells": [
  {
   "cell_type": "code",
   "execution_count": 5,
   "metadata": {},
   "outputs": [],
   "source": [
    "def closest(arr,x):\n",
    "    n = len(arr)\n",
    "    l = 0\n",
    "    r = n-1\n",
    "    res_l = 0\n",
    "    res_r = 0\n",
    "    diff = x\n",
    "    while l<r:\n",
    "        if abs((arr[l]*arr[r])-x) <diff:\n",
    "            res_l = l\n",
    "            res_r = r\n",
    "            diff = abs((arr[l]*arr[r])-x)\n",
    "        if (arr[l]*arr[r])<x:\n",
    "            l+=1\n",
    "        else:\n",
    "            r-=1\n",
    "    return (arr[res_l],arr[res_r])"
   ]
  },
  {
   "cell_type": "code",
   "execution_count": 6,
   "metadata": {},
   "outputs": [
    {
     "data": {
      "text/plain": [
       "(5, 9)"
      ]
     },
     "execution_count": 6,
     "metadata": {},
     "output_type": "execute_result"
    }
   ],
   "source": [
    "arr = [2,3,5,9]\n",
    "x = 47\n",
    "closest(arr,x)"
   ]
  }
 ],
 "metadata": {
  "kernelspec": {
   "display_name": "Python 3",
   "language": "python",
   "name": "python3"
  },
  "language_info": {
   "codemirror_mode": {
    "name": "ipython",
    "version": 3
   },
   "file_extension": ".py",
   "mimetype": "text/x-python",
   "name": "python",
   "nbconvert_exporter": "python",
   "pygments_lexer": "ipython3",
   "version": "3.5.2"
  }
 },
 "nbformat": 4,
 "nbformat_minor": 2
}
