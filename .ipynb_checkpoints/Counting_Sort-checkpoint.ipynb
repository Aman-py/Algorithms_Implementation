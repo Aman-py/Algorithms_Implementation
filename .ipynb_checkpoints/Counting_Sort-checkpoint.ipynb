{
 "cells": [
  {
   "cell_type": "code",
   "execution_count": 10,
   "metadata": {},
   "outputs": [],
   "source": [
    "def countsort(txt):\n",
    "    d = {}\n",
    "    j = ''\n",
    "    for i in txt:\n",
    "        if i not in d.keys():\n",
    "            d[i] = 1\n",
    "        else:\n",
    "            d[i]+=1\n",
    "    l = sorted(d.keys())\n",
    "    for n in l:\n",
    "        if d[n] >0:\n",
    "            j = j+(n*d[n])\n",
    "    return j"
   ]
  },
  {
   "cell_type": "code",
   "execution_count": 11,
   "metadata": {},
   "outputs": [],
   "source": [
    "txt ='geeksforgeeks'\n",
    "result = countsort(txt)"
   ]
  },
  {
   "cell_type": "code",
   "execution_count": 12,
   "metadata": {},
   "outputs": [
    {
     "name": "stdout",
     "output_type": "stream",
     "text": [
      "eeeefggkkorss\n"
     ]
    }
   ],
   "source": [
    "print(result)"
   ]
  },
  {
   "cell_type": "code",
   "execution_count": 13,
   "metadata": {},
   "outputs": [],
   "source": [
    "txt ='555436734837'\n",
    "result = countsort(txt)"
   ]
  },
  {
   "cell_type": "code",
   "execution_count": 14,
   "metadata": {},
   "outputs": [
    {
     "name": "stdout",
     "output_type": "stream",
     "text": [
      "333445556778\n"
     ]
    }
   ],
   "source": [
    "print(result)"
   ]
  },
  {
   "cell_type": "code",
   "execution_count": 15,
   "metadata": {},
   "outputs": [],
   "source": [
    "txt = '@#$%^%$&*&@^)(&@%)*@&%!~@&+_=@*^#'\n",
    "result = countsort(txt)"
   ]
  },
  {
   "cell_type": "code",
   "execution_count": 17,
   "metadata": {},
   "outputs": [
    {
     "name": "stdout",
     "output_type": "stream",
     "text": [
      "!##$$%%%%&&&&&())***+=@@@@@@^^^_~\n"
     ]
    }
   ],
   "source": [
    "print(result)"
   ]
  },
  {
   "cell_type": "code",
   "execution_count": 18,
   "metadata": {},
   "outputs": [],
   "source": [
    "txt='!*@^^$@%(@*@^^@YI(@^E@@$)U*@%^!*!)I)(@*&BFVGT)UFThsfyegfqy515485461jvxgsv~@R%@)&VDJ'\n",
    "result = countsort(txt)"
   ]
  },
  {
   "cell_type": "code",
   "execution_count": 19,
   "metadata": {},
   "outputs": [
    {
     "name": "stdout",
     "output_type": "stream",
     "text": [
      "!!!$$%%%&&((()))))*****114455568@@@@@@@@@@@@BDEFFGIIJRTTUUVVY^^^^^^effgghjqssvvxyy~\n"
     ]
    }
   ],
   "source": [
    "print(result)"
   ]
  },
  {
   "cell_type": "code",
   "execution_count": 20,
   "metadata": {},
   "outputs": [],
   "source": [
    "txt='~!@#$%^&*()_++_)(*&^%$#@!~QWERTYUIOPLKJHGFDSAZXCVBNM<>?\":}{|}\")MNJKLBVGHCXZASDFPQWOIERIUTYUalzmskjdeuyrtfhgbvcpqowieuryl19378246503948571623/.,;][\\]'\n",
    "result = countsort(txt)"
   ]
  },
  {
   "cell_type": "code",
   "execution_count": 21,
   "metadata": {},
   "outputs": [
    {
     "name": "stdout",
     "output_type": "stream",
     "text": [
      "!!\"\"##$$%%&&(()))**++,./01122333445566778899:;<>?@@AABBCCDDEEFFGGHHIIIJJKKLLMMNNOOPPQQRRSSTTUUUVVWWXXYYZZ[\\]]^^__abcdeefghijkllmopqrrstuuvwyyz{|}}~~\n"
     ]
    }
   ],
   "source": [
    "print(result)"
   ]
  },
  {
   "cell_type": "code",
   "execution_count": null,
   "metadata": {},
   "outputs": [],
   "source": []
  }
 ],
 "metadata": {
  "kernelspec": {
   "display_name": "Python 3",
   "language": "python",
   "name": "python3"
  },
  "language_info": {
   "codemirror_mode": {
    "name": "ipython",
    "version": 3
   },
   "file_extension": ".py",
   "mimetype": "text/x-python",
   "name": "python",
   "nbconvert_exporter": "python",
   "pygments_lexer": "ipython3",
   "version": "3.5.2"
  }
 },
 "nbformat": 4,
 "nbformat_minor": 2
}
