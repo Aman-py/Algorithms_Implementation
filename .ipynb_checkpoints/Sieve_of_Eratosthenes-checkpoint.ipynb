{
 "cells": [
  {
   "cell_type": "code",
   "execution_count": 17,
   "metadata": {},
   "outputs": [],
   "source": [
    "#Given a number n, print all primes smaller than or equal to n. It is also given that n is a small number\n",
    "def sieve(n):\n",
    "    l = [1]*(n+1)\n",
    "    l[0] = 0\n",
    "    l[1] = 0\n",
    "    for i in range(n+1):\n",
    "        if l[i] ==1:\n",
    "            l[i] = i\n",
    "            for j in range(i+1,n+1):\n",
    "                if j%i == 0:\n",
    "                    l[j] = 0\n",
    "    for m in l:\n",
    "        if m != 0:\n",
    "            print(m)\n",
    "    return"
   ]
  },
  {
   "cell_type": "code",
   "execution_count": 18,
   "metadata": {},
   "outputs": [
    {
     "name": "stdout",
     "output_type": "stream",
     "text": [
      "2\n",
      "3\n",
      "5\n",
      "7\n",
      "11\n",
      "13\n",
      "17\n",
      "19\n",
      "23\n",
      "29\n",
      "31\n",
      "37\n",
      "41\n",
      "43\n",
      "47\n",
      "53\n",
      "59\n",
      "61\n",
      "67\n",
      "71\n",
      "73\n",
      "79\n",
      "83\n",
      "89\n",
      "97\n",
      "None\n"
     ]
    }
   ],
   "source": [
    "n = 100\n",
    "print(sieve(n))"
   ]
  }
 ],
 "metadata": {
  "kernelspec": {
   "display_name": "Python 3",
   "language": "python",
   "name": "python3"
  },
  "language_info": {
   "codemirror_mode": {
    "name": "ipython",
    "version": 3
   },
   "file_extension": ".py",
   "mimetype": "text/x-python",
   "name": "python",
   "nbconvert_exporter": "python",
   "pygments_lexer": "ipython3",
   "version": "3.5.2"
  }
 },
 "nbformat": 4,
 "nbformat_minor": 2
}
