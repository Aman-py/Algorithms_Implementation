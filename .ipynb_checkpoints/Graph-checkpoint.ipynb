{
 "cells": [
  {
   "cell_type": "code",
   "execution_count": 1,
   "metadata": {},
   "outputs": [
    {
     "name": "stdout",
     "output_type": "stream",
     "text": [
      "Value of Max. Node: 4\n",
      "Edge: 7\n",
      "Type Of Graph: U\n",
      "Weighted Or Non Weighted: NW\n",
      "0 1\n",
      "0 4\n",
      "1 3\n",
      "1 4\n",
      "3 4\n",
      "2 1\n",
      "2 3\n",
      "[[0, 1, 0, 0, 1], [1, 0, 1, 1, 1], [0, 1, 0, 1, 0], [0, 1, 1, 0, 1], [1, 1, 0, 1, 0]]\n"
     ]
    }
   ],
   "source": [
    "#Adjacency Matrix Reprsentation\n",
    "def graphM():\n",
    "    n = int(input('Value of Max. Node: '))\n",
    "    e = int(input('Edge: '))\n",
    "    matrix = [0] * (n+1)\n",
    "    for i in range(n+1):\n",
    "        matrix[i] = [0] * (n+1)\n",
    "    typ = input('Type Of Graph: ')\n",
    "    chk = input('Weighted Or Non Weighted: ')\n",
    "    if chk =='W' and typ =='D':\n",
    "        for i in range(e):\n",
    "            n1,n2,v = map(int,input().split())\n",
    "            matrix[n1][n2] =v\n",
    "    elif chk =='W' and typ =='U':\n",
    "         for i in range(e):\n",
    "            n1,n2,v = map(int,input().split())\n",
    "            matrix[n1][n2] =v\n",
    "            matrix[n2][n1] =v\n",
    "    elif chk =='NW' and typ =='U':\n",
    "        for i in range(e):\n",
    "            n1,n2 = map(int,input().split())\n",
    "            matrix[n1][n2] =1\n",
    "            matrix[n2][n1] =1\n",
    "    elif chk =='NW' and typ =='D':\n",
    "        for i in range(e):\n",
    "            n1,n2 = map(int,input().split())\n",
    "            matrix[n1][n2] =1\n",
    "    return print(matrix)\n",
    "\n",
    "graphM()"
   ]
  },
  {
   "cell_type": "code",
   "execution_count": 2,
   "metadata": {},
   "outputs": [
    {
     "name": "stdout",
     "output_type": "stream",
     "text": [
      "No. Of Edges: 7\n",
      "Type Of Graph: U\n",
      "Weighted Or Non WeightedNW\n",
      "0 1\n",
      "0 4\n",
      "1 3\n",
      "1 4\n",
      "3 4\n",
      "2 1\n",
      "2 3\n",
      "{0: [1, 4], 1: [0, 3, 4, 2], 2: [1, 3], 3: [1, 4, 2], 4: [0, 1, 3]}\n"
     ]
    }
   ],
   "source": [
    "#Adjacency List Presentation\n",
    "def graphL():\n",
    "    graph = {}\n",
    "    e = int(input('No. Of Edges: '))\n",
    "    typ = input('Type Of Graph: ')\n",
    "    chk = input('Weighted Or Non Weighted')\n",
    "    if chk =='W' and typ =='D':\n",
    "        for i in range(e):\n",
    "            n1,n2,v = map(int,input().split())\n",
    "            if n1 in graph.keys():\n",
    "                graph[n1].append([n2,v])\n",
    "            else:\n",
    "                graph[n1] = [[n2,v]]\n",
    "    elif chk =='W' and typ =='U':\n",
    "         for i in range(e):\n",
    "            n1,n2,v = map(int,input().split())\n",
    "            if n1 in graph.keys():\n",
    "                graph[n1].append([n2,v])\n",
    "            else:\n",
    "                graph[n1] = [[n2,v]]\n",
    "            if n2 in graph.keys():\n",
    "                graph[n2].append([n1,v])\n",
    "            else:\n",
    "                graph[n2] = [[n1,v]]\n",
    "    elif chk =='NW' and typ =='U':\n",
    "        for i in range(e):\n",
    "            n1,n2 = map(int,input().split())\n",
    "            if n1 in graph.keys():\n",
    "                graph[n1].append(n2)\n",
    "            else:\n",
    "                graph[n1] = [n2]\n",
    "            if n2 in graph.keys():\n",
    "                graph[n2].append(n1)\n",
    "            else:\n",
    "                graph[n2] = [n1]\n",
    "    elif chk =='NW' and typ =='D':\n",
    "        for i in range(e):\n",
    "            n1,n2 = map(int,input().split())\n",
    "            if n1 in graph.keys():\n",
    "                graph[n1].append(n2)\n",
    "            else:\n",
    "                graph[n1] = [n2]\n",
    "    return print(graph)\n",
    "graphL()"
   ]
  }
 ],
 "metadata": {
  "kernelspec": {
   "display_name": "Python 3",
   "language": "python",
   "name": "python3"
  },
  "language_info": {
   "codemirror_mode": {
    "name": "ipython",
    "version": 3
   },
   "file_extension": ".py",
   "mimetype": "text/x-python",
   "name": "python",
   "nbconvert_exporter": "python",
   "pygments_lexer": "ipython3",
   "version": "3.5.2"
  }
 },
 "nbformat": 4,
 "nbformat_minor": 2
}
