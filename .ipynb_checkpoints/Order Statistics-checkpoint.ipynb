{
 "cells": [
  {
   "cell_type": "markdown",
   "metadata": {},
   "source": [
    "<h1> Implementation Of Order Statistics</h1>\n",
    "<h2> Time Complexity = O(n^2) Worst Case</h2>\n",
    "<h2> Time Complexity = O(n) Average Case</h2>\n",
    "<h3>First</h3>"
   ]
  },
  {
   "cell_type": "code",
   "execution_count": 1,
   "metadata": {},
   "outputs": [],
   "source": [
    "def partiton(arr,low,high):\n",
    "    pi = arr[high]\n",
    "    i = low-1\n",
    "    for k in range(low,high):\n",
    "        if arr[k]<=pi:\n",
    "            i = i+1\n",
    "            arr[k],arr[i]=arr[i],arr[k]\n",
    "    arr[high],arr[i+1]=arr[i+1],arr[high]\n",
    "    return i+1"
   ]
  },
  {
   "cell_type": "code",
   "execution_count": 5,
   "metadata": {},
   "outputs": [],
   "source": [
    "def randomizedselect(arr,low,high,k):\n",
    "    if low==high:\n",
    "        return arr[low]\n",
    "    r = partiton(arr,low,high)\n",
    "    l = r-low+1\n",
    "    if k ==l:\n",
    "        return arr[r]\n",
    "    if k<l:\n",
    "        return randomizedselect(arr,low,r-1,k)\n",
    "    else:\n",
    "        return randomizedselect(arr,r+1,high,k-l)"
   ]
  },
  {
   "cell_type": "code",
   "execution_count": 6,
   "metadata": {},
   "outputs": [],
   "source": [
    "arr=[76,56,35,76,78,46,87,83,57,97]\n",
    "low = 0\n",
    "high = len(arr)-1\n",
    "k = 3"
   ]
  },
  {
   "cell_type": "code",
   "execution_count": 7,
   "metadata": {},
   "outputs": [
    {
     "name": "stdout",
     "output_type": "stream",
     "text": [
      "56\n"
     ]
    }
   ],
   "source": [
    "result = randomizedselect(arr,low,high,k)\n",
    "print(result)"
   ]
  },
  {
   "cell_type": "code",
   "execution_count": 9,
   "metadata": {},
   "outputs": [
    {
     "data": {
      "text/plain": [
       "[35, 46, 56, 57, 76, 76, 78, 83, 87, 97]"
      ]
     },
     "execution_count": 9,
     "metadata": {},
     "output_type": "execute_result"
    }
   ],
   "source": [
    "sorted(arr)"
   ]
  },
  {
   "cell_type": "markdown",
   "metadata": {},
   "source": [
    "<h3>Second</h3>"
   ]
  },
  {
   "cell_type": "code",
   "execution_count": 10,
   "metadata": {},
   "outputs": [],
   "source": [
    "def merge(l,r,arr):\n",
    "    nl = len(l)\n",
    "    nr = len(r)\n",
    "    i,j,k=0,0,0\n",
    "    while i<nl and j<nr:\n",
    "        if l[i]<=r[j]:\n",
    "            arr[k] = l[i]\n",
    "            i+=1\n",
    "        else:\n",
    "            arr[k]=r[j]\n",
    "            j+=1\n",
    "        k+=1\n",
    "    while i<nl:\n",
    "        arr[k]=l[i]\n",
    "        k+=1\n",
    "        i+=1\n",
    "    while j<nr:\n",
    "        arr[k]=r[j]\n",
    "        k+=1\n",
    "        j+=1\n",
    "    return arr\n",
    "def mergesort(arr):\n",
    "    n = len(arr)\n",
    "    if n<2:\n",
    "        return arr\n",
    "    else:\n",
    "        mid = int(n/2)\n",
    "        l = arr[:mid]\n",
    "        r = arr[mid:]\n",
    "        mergesort(l)\n",
    "        mergesort(r)\n",
    "        merge(l,r,arr)\n",
    "    return arr\n",
    "def orderstat(arr,k):\n",
    "    mergesort(arr)\n",
    "    return arr[k-1]"
   ]
  },
  {
   "cell_type": "code",
   "execution_count": 11,
   "metadata": {},
   "outputs": [
    {
     "name": "stdout",
     "output_type": "stream",
     "text": [
      "56\n"
     ]
    }
   ],
   "source": [
    "arr=[76,56,35,76,78,46,87,83,57,97]\n",
    "result=orderstat(arr,k)\n",
    "print(result)"
   ]
  }
 ],
 "metadata": {
  "kernelspec": {
   "display_name": "Python 3",
   "language": "python",
   "name": "python3"
  },
  "language_info": {
   "codemirror_mode": {
    "name": "ipython",
    "version": 3
   },
   "file_extension": ".py",
   "mimetype": "text/x-python",
   "name": "python",
   "nbconvert_exporter": "python",
   "pygments_lexer": "ipython3",
   "version": "3.5.2"
  }
 },
 "nbformat": 4,
 "nbformat_minor": 2
}
