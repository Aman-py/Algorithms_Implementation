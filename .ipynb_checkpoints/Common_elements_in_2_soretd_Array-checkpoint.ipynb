{
 "cells": [
  {
   "cell_type": "code",
   "execution_count": 22,
   "metadata": {},
   "outputs": [],
   "source": [
    "def common(a,b):\n",
    "    i,j = [len(a),len(b)]\n",
    "    m = 0\n",
    "    n = 0\n",
    "    com = []\n",
    "    while m<i and n <j:\n",
    "        if a[m] == b[n]:\n",
    "            com.append(a[m])\n",
    "            m+=1\n",
    "            n+=1\n",
    "        elif a[m] > b[n]:\n",
    "            n+=1\n",
    "        elif a[m] < b[n]:\n",
    "            m+=1\n",
    "    return com"
   ]
  },
  {
   "cell_type": "code",
   "execution_count": 23,
   "metadata": {},
   "outputs": [],
   "source": [
    "a=[1,3,4,6,7,9]\n",
    "b=[1,2,4,5,9,10]\n",
    "result = common(a,b)"
   ]
  },
  {
   "cell_type": "code",
   "execution_count": 24,
   "metadata": {},
   "outputs": [
    {
     "name": "stdout",
     "output_type": "stream",
     "text": [
      "[1, 4, 9]\n"
     ]
    }
   ],
   "source": [
    "print(result)"
   ]
  },
  {
   "cell_type": "code",
   "execution_count": 21,
   "metadata": {},
   "outputs": [
    {
     "name": "stdout",
     "output_type": "stream",
     "text": [
      "1\n",
      "4\n",
      "9\n"
     ]
    }
   ],
   "source": [
    "# Python program to find intersection of\n",
    "# two sorted arrays\n",
    "# Function prints Intersection of arr1[] and arr2[]\n",
    "# m is the number of elements in arr1[]\n",
    "# n is the number of elements in arr2[]\n",
    "def printIntersection(arr1, arr2, m, n):\n",
    "    i,j = 0,0\n",
    "    while i < m and j < n:\n",
    "        if arr1[i] < arr2[j]:\n",
    "            i += 1\n",
    "        elif arr2[j] < arr1[i]:\n",
    "            j+= 1\n",
    "        else:\n",
    "            print(arr2[j])\n",
    "            j += 1\n",
    "            i += 1\n",
    " \n",
    "# Driver program to test above function\n",
    "arr1 = [1,3,4,6,7,9]\n",
    "arr2 = [1,2,4,5,9,10]\n",
    "m = len(arr1)\n",
    "n = len(arr2)\n",
    "printIntersection(arr1, arr2, m, n)"
   ]
  },
  {
   "cell_type": "code",
   "execution_count": 30,
   "metadata": {},
   "outputs": [
    {
     "name": "stdout",
     "output_type": "stream",
     "text": [
      "{1, 4, 9}\n",
      "{1, 2, 3, 4, 5, 6, 7, 9, 10}\n"
     ]
    }
   ],
   "source": [
    "# simple and fast solution to this problem\n",
    "# with the help of python built in datatype set\n",
    "a = [1,3,4,6,7,9]\n",
    "b = [1,2,4,5,9,10]\n",
    "print(set(a)&set(b))\n",
    "print(set(a)|set(b))"
   ]
  }
 ],
 "metadata": {
  "kernelspec": {
   "display_name": "Python 3",
   "language": "python",
   "name": "python3"
  },
  "language_info": {
   "codemirror_mode": {
    "name": "ipython",
    "version": 3
   },
   "file_extension": ".py",
   "mimetype": "text/x-python",
   "name": "python",
   "nbconvert_exporter": "python",
   "pygments_lexer": "ipython3",
   "version": "3.5.2"
  }
 },
 "nbformat": 4,
 "nbformat_minor": 2
}
