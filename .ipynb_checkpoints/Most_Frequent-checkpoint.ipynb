{
 "cells": [
  {
   "cell_type": "code",
   "execution_count": 35,
   "metadata": {},
   "outputs": [],
   "source": [
    "# We have to find most frequent element in an array\n",
    "# Time Complexity = o(n)\n",
    "# space complexity = o(n)\n",
    "def mostf(arr):\n",
    "    '''function to find the most \n",
    "    frequent word in an array'''\n",
    "    d = {}                     #Create a dictionary\n",
    "    for i in arr:\n",
    "        if i in d.keys():\n",
    "            d[i]+=1\n",
    "        else:\n",
    "            d[i]=1\n",
    "    return list(d.keys())[list(d.values()).index(max(d.values()))]     "
   ]
  },
  {
   "cell_type": "code",
   "execution_count": 38,
   "metadata": {},
   "outputs": [],
   "source": [
    "arr = [1, 5, 2, 1, 3, 2, 1]\n",
    "result = mostf(arr)"
   ]
  },
  {
   "cell_type": "code",
   "execution_count": 39,
   "metadata": {},
   "outputs": [
    {
     "name": "stdout",
     "output_type": "stream",
     "text": [
      "1\n"
     ]
    }
   ],
   "source": [
    "print(result)"
   ]
  },
  {
   "cell_type": "code",
   "execution_count": 30,
   "metadata": {},
   "outputs": [
    {
     "name": "stdout",
     "output_type": "stream",
     "text": [
      "1\n"
     ]
    }
   ],
   "source": [
    "# Naive Solution\n",
    "# Python3 program to find the most \n",
    "# frequent element in an array.\n",
    "# Time Complexity = O(nlogn)\n",
    "# Space Complexity = O(n)\n",
    "def mostFrequent(arr, n):\n",
    " \n",
    "    # Sort the array\n",
    "    arr.sort()\n",
    " \n",
    "    # find the max frequency using\n",
    "    # linear traversal\n",
    "    max_count = 1; res = arr[0]; curr_count = 1\n",
    "     \n",
    "    for i in range(1, n): \n",
    "        if (arr[i] == arr[i - 1]):\n",
    "            curr_count += 1\n",
    "             \n",
    "        else :\n",
    "            if (curr_count > max_count): \n",
    "                max_count = curr_count\n",
    "                res = arr[i - 1]\n",
    "             \n",
    "            curr_count = 1\n",
    "     \n",
    "    # If last element is most frequent\n",
    "    if (curr_count > max_count):\n",
    "     \n",
    "        max_count = curr_count\n",
    "        res = arr[n - 1]\n",
    "     \n",
    "    return res\n",
    " \n",
    "# Driver Code\n",
    "arr = [1, 5, 2, 1, 3, 2, 1] \n",
    "n = len(arr)\n",
    "print(mostFrequent(arr, n))"
   ]
  }
 ],
 "metadata": {
  "kernelspec": {
   "display_name": "Python 3",
   "language": "python",
   "name": "python3"
  },
  "language_info": {
   "codemirror_mode": {
    "name": "ipython",
    "version": 3
   },
   "file_extension": ".py",
   "mimetype": "text/x-python",
   "name": "python",
   "nbconvert_exporter": "python",
   "pygments_lexer": "ipython3",
   "version": "3.5.2"
  }
 },
 "nbformat": 4,
 "nbformat_minor": 2
}
