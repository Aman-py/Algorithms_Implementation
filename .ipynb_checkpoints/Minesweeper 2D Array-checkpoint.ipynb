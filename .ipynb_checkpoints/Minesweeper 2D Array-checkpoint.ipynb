{
 "cells": [
  {
   "cell_type": "markdown",
   "metadata": {},
   "source": [
    "<h1> MineSweeper 2D Matrix </h1>\n",
    "<p> this program is used to generate matrix in 2D arrays in the form of matrix same as mine sweepwe game there is a function defined by minesweepwe(bombs,no_cols,no_rows) this fuction takes the cordinates of bombs and denote them in return matrix as 'B' notation and generate a minesweeper matrix like a whole game.this is very useful algorithm and to understand array manuplation and asked in many of programming interviews</p>"
   ]
  },
  {
   "cell_type": "code",
   "execution_count": 53,
   "metadata": {},
   "outputs": [],
   "source": [
    "def minesweeper(bombs,no_cols,no_rows):\n",
    "    mine =[]\n",
    "    for i in range(no_rows):\n",
    "        mine.append([0]*no_cols)\n",
    "    for [m,n] in bombs:\n",
    "        mine[m][n] ='B'\n",
    "        if m-1<0:\n",
    "            a=0\n",
    "        else:\n",
    "            a = m-1\n",
    "        if m+1 >= no_rows:\n",
    "            b=no_rows\n",
    "        else:\n",
    "            b=m+2\n",
    "        if n-1<0:\n",
    "            x=0\n",
    "        else:\n",
    "            x =n-1\n",
    "        if n+1 >= no_rows:\n",
    "            y=no_cols\n",
    "        else:\n",
    "            y = n+2\n",
    "        for p in range(a,b):\n",
    "            for q in range(x,y):\n",
    "                if mine[p][q] == 'B':\n",
    "                    pass\n",
    "                else:\n",
    "                    mine[p][q] =mine[p][q]+1\n",
    "    return mine"
   ]
  },
  {
   "cell_type": "code",
   "execution_count": 54,
   "metadata": {},
   "outputs": [],
   "source": [
    "bomb=[[0,0],[0,1]]\n",
    "no_col = 4\n",
    "no_row = 3"
   ]
  },
  {
   "cell_type": "code",
   "execution_count": 55,
   "metadata": {},
   "outputs": [
    {
     "name": "stdout",
     "output_type": "stream",
     "text": [
      "[['B', 'B', 1, 0], [2, 2, 1, 0], [0, 0, 0, 0]]\n"
     ]
    }
   ],
   "source": [
    "print(minesweeper(bomb,no_col,no_row))"
   ]
  },
  {
   "cell_type": "code",
   "execution_count": 56,
   "metadata": {},
   "outputs": [
    {
     "name": "stdout",
     "output_type": "stream",
     "text": [
      "[[0, 1, 'B', 3, 'B', 3, 2, 2], [0, 2, 2, 4, 'B', 3, 'B', 'B'], [1, 2, 'B', 2, 1, 2, 2, 2], [1, 'B', 2, 1, 0, 0, 0, 0], [1, 1, 1, 0, 0, 0, 0, 0], [0, 0, 0, 1, 1, 1, 0, 0], [0, 0, 0, 2, 'B', 3, 1, 0], [0, 0, 0, 2, 'B', 'B', 1, 0]]\n"
     ]
    }
   ],
   "source": [
    "bomb=[[0,2],[0,4],[1,4],[1,6],[1,7],[2,2],[3,1],[6,4],[7,4],[7,5]]\n",
    "col =8\n",
    "row =8\n",
    "print(minesweeper(bomb,col,row))"
   ]
  }
 ],
 "metadata": {
  "kernelspec": {
   "display_name": "Python 3",
   "language": "python",
   "name": "python3"
  },
  "language_info": {
   "codemirror_mode": {
    "name": "ipython",
    "version": 3
   },
   "file_extension": ".py",
   "mimetype": "text/x-python",
   "name": "python",
   "nbconvert_exporter": "python",
   "pygments_lexer": "ipython3",
   "version": "3.5.2"
  }
 },
 "nbformat": 4,
 "nbformat_minor": 2
}
