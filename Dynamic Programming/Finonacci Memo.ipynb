{
 "cells": [
  {
   "cell_type": "code",
   "execution_count": 15,
   "metadata": {},
   "outputs": [],
   "source": [
    "# Additional Function To Drive Fibonacci Function\n",
    "\n",
    "def main():\n",
    "    \n",
    "    '''Function is used to initialize\n",
    "       an array called memo and to \n",
    "       take the input for value of n '''\n",
    "    \n",
    "    n = int(input())\n",
    "    \n",
    "    memo = [0]*(n+1)\n",
    "    \n",
    "    print(fib(n,memo))"
   ]
  },
  {
   "cell_type": "code",
   "execution_count": 16,
   "metadata": {},
   "outputs": [],
   "source": [
    "# Fibonaci Numbers\n",
    "\n",
    "'''A fibonaci number is f(n) which is always\n",
    "   is equal to sum of previus two numbers of \n",
    "   the same series we can dfine this something\n",
    "   like this \n",
    "       f(n) = f(n-1) + f(n-2)'''\n",
    "\n",
    "def fib(n,memo):\n",
    "    \n",
    "    '''  Function to find nth fibonacci number \n",
    "           with the help of using Dynamic \n",
    "           Programming with storing in an array\n",
    "           size structure memo  '''\n",
    "    \n",
    "    if memo[n] != 0:\n",
    "        \n",
    "        return memo[n]\n",
    "    \n",
    "    elif n ==0 or n==1:\n",
    "        \n",
    "        result =1\n",
    "    \n",
    "    else:\n",
    "        \n",
    "        result = fib(n-2,memo) + fib(n-1,memo)\n",
    "        memo[n] = result\n",
    "        \n",
    "        \n",
    "    return result"
   ]
  },
  {
   "cell_type": "code",
   "execution_count": 17,
   "metadata": {},
   "outputs": [
    {
     "name": "stdout",
     "output_type": "stream",
     "text": [
      "5\n",
      "8\n"
     ]
    }
   ],
   "source": [
    "main()"
   ]
  },
  {
   "cell_type": "code",
   "execution_count": 18,
   "metadata": {},
   "outputs": [
    {
     "name": "stdout",
     "output_type": "stream",
     "text": [
      "15\n",
      "987\n"
     ]
    }
   ],
   "source": [
    "main()"
   ]
  },
  {
   "cell_type": "code",
   "execution_count": 8,
   "metadata": {},
   "outputs": [],
   "source": [
    "# Find Fibonacci numer by Bottom up approach\n",
    "def fib_bottom_up(n):\n",
    "    \n",
    "    '''    Function to find nth fibonacci number \n",
    "           with the help of using Dynamic \n",
    "           Programming with using bottom up appr-\n",
    "           oach to store in array named bottom'''\n",
    "    \n",
    "    if n == 0 or n == 1:\n",
    "        \n",
    "        return 1\n",
    "    \n",
    "    bottom = [0]*(n+1)\n",
    "    \n",
    "    bottom[0] = 1\n",
    "    bottom[1] = 1\n",
    "    \n",
    "    for i in range(2,n+1):\n",
    "        \n",
    "        bottom[i] = bottom[i-1] + bottom[i-2]\n",
    "        \n",
    "    return bottom[n]"
   ]
  },
  {
   "cell_type": "code",
   "execution_count": 9,
   "metadata": {},
   "outputs": [],
   "source": [
    "n = 5\n",
    "result = fib_bottom_up(n)"
   ]
  },
  {
   "cell_type": "code",
   "execution_count": 10,
   "metadata": {},
   "outputs": [
    {
     "name": "stdout",
     "output_type": "stream",
     "text": [
      "8\n"
     ]
    }
   ],
   "source": [
    "print(result)"
   ]
  },
  {
   "cell_type": "code",
   "execution_count": 11,
   "metadata": {},
   "outputs": [],
   "source": [
    "n = 15\n",
    "result = fib_bottom_up(n)"
   ]
  },
  {
   "cell_type": "code",
   "execution_count": 12,
   "metadata": {},
   "outputs": [
    {
     "name": "stdout",
     "output_type": "stream",
     "text": [
      "987\n"
     ]
    }
   ],
   "source": [
    "print(result)"
   ]
  }
 ],
 "metadata": {
  "kernelspec": {
   "display_name": "Python 3",
   "language": "python",
   "name": "python3"
  },
  "language_info": {
   "codemirror_mode": {
    "name": "ipython",
    "version": 3
   },
   "file_extension": ".py",
   "mimetype": "text/x-python",
   "name": "python",
   "nbconvert_exporter": "python",
   "pygments_lexer": "ipython3",
   "version": "3.5.2"
  }
 },
 "nbformat": 4,
 "nbformat_minor": 2
}
