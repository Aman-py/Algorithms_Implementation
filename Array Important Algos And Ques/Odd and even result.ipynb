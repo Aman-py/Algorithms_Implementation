{
 "cells": [
  {
   "cell_type": "code",
   "execution_count": 7,
   "metadata": {},
   "outputs": [],
   "source": [
    "# For full Info Check: https://www.geeksforgeeks.org/number-of-odd-and-even-results-for-every-value-of-x-in-range-min-max-after-performing-n-steps/\n",
    "\n",
    "def check(arr,mini,maxm):\n",
    "    \n",
    "    p = 1\n",
    "    q = 0\n",
    "    \n",
    "    for (a,b) in arr:\n",
    "        p = p*a\n",
    "        q = q*p+b\n",
    "        \n",
    "    k = maxm-mini+1\n",
    "    \n",
    "    if p%2 ==0 and q%2 != 0:\n",
    "        \n",
    "        return print('All Numbers are odd between mini and max:',k)\n",
    "    \n",
    "    if p%2 == 0 and q%2==0:\n",
    "        \n",
    "        return print('All Numbers are odd between mini and max:',k)\n",
    "    \n",
    "    j = (p*mini) + q\n",
    "    \n",
    "    if k%2!=0:\n",
    "        if j%2==0:\n",
    "            return print('even:',((k//2)+1),'odd:',(k//2))\n",
    "        elif j%2!=0:\n",
    "            return print('even:',((k//2)),'odd:',(k//2)+1)\n",
    "    else:\n",
    "        \n",
    "        return print('even:',((k//2)),'odd:',(k//2))"
   ]
  },
  {
   "cell_type": "code",
   "execution_count": 8,
   "metadata": {},
   "outputs": [
    {
     "name": "stdout",
     "output_type": "stream",
     "text": [
      "even: 29 odd: 28\n"
     ]
    }
   ],
   "source": [
    "arr=[(1,2)];mini = 4;maxm = 60\n",
    "check(arr,mini,maxm)"
   ]
  },
  {
   "cell_type": "code",
   "execution_count": 9,
   "metadata": {},
   "outputs": [
    {
     "name": "stdout",
     "output_type": "stream",
     "text": [
      "even: 2 odd: 2\n"
     ]
    }
   ],
   "source": [
    "arr = [(1,2),(3,4)]\n",
    "mini= 1\n",
    "maxm = 4\n",
    "check(arr,mini,maxm)"
   ]
  }
 ],
 "metadata": {
  "kernelspec": {
   "display_name": "Python 3",
   "language": "python",
   "name": "python3"
  },
  "language_info": {
   "codemirror_mode": {
    "name": "ipython",
    "version": 3
   },
   "file_extension": ".py",
   "mimetype": "text/x-python",
   "name": "python",
   "nbconvert_exporter": "python",
   "pygments_lexer": "ipython3",
   "version": "3.5.2"
  }
 },
 "nbformat": 4,
 "nbformat_minor": 2
}
