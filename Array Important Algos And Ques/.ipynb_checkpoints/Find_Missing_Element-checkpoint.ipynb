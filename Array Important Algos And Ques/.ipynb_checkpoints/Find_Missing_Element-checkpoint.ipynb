{
 "cells": [
  {
   "cell_type": "code",
   "execution_count": 1,
   "metadata": {},
   "outputs": [],
   "source": [
    "def finder(main,check):\n",
    "    \n",
    "    '''find no. of missing elements\n",
    "       and print missing element'''\n",
    "    \n",
    "    for i in main:\n",
    "        \n",
    "        if i in check:\n",
    "            \n",
    "            check.remove(i)\n",
    "    \n",
    "    return ('No. of Missing Element:',len(check),'Missing Elements:',check)"
   ]
  },
  {
   "cell_type": "code",
   "execution_count": 2,
   "metadata": {},
   "outputs": [
    {
     "name": "stdout",
     "output_type": "stream",
     "text": [
      "('No. of Missing Element:', 5, 'Missing Elements:', [0, 9, 8, 7, 6])\n"
     ]
    }
   ],
   "source": [
    "main = [1,2,3,4,5]\n",
    "check = [0,9,8,7,6,5,4,3,2,1]\n",
    "print(finder(main,check))"
   ]
  },
  {
   "cell_type": "code",
   "execution_count": 3,
   "metadata": {},
   "outputs": [],
   "source": [
    "arr1 = [1,1,1,1,1,1,1,1,1,1,1,1,1,1,1,1,1,1,2,2,2,2,3,3,3,3,4,4,4,5,5,5,6,6,8,7,0]\n",
    "arr2 = [1,2,3,4,4,1,1,1,1,2,2,23,3,3,34,4,4,4,5,5,6]"
   ]
  },
  {
   "cell_type": "code",
   "execution_count": 5,
   "metadata": {},
   "outputs": [
    {
     "name": "stdout",
     "output_type": "stream",
     "text": [
      "('No. of Missing Element:', 35, 'Missing Elements:', [1, 1, 1, 1, 1, 1, 1, 1, 1, 1, 1, 1, 1, 1, 1, 1, 1, 1, 2, 2, 2, 2, 3, 3, 3, 3, 4, 5, 5, 5, 6, 6, 8, 7, 0])\n"
     ]
    }
   ],
   "source": [
    "print(finder(arr2,arr1))"
   ]
  },
  {
   "cell_type": "code",
   "execution_count": 7,
   "metadata": {},
   "outputs": [],
   "source": [
    "def finder(arr1,arr2):\n",
    "    \n",
    "    '''find missing elements in arr2\n",
    "       which in arr1'''\n",
    "    \n",
    "    result = 0\n",
    "    \n",
    "    for i in arr1+arr2:\n",
    "        \n",
    "        result = result ^ i\n",
    "        \n",
    "        print(result)\n",
    "        \n",
    "    return result"
   ]
  },
  {
   "cell_type": "code",
   "execution_count": 8,
   "metadata": {},
   "outputs": [
    {
     "name": "stdout",
     "output_type": "stream",
     "text": [
      "1\n",
      "3\n",
      "0\n",
      "4\n",
      "1\n",
      "7\n",
      "0\n",
      "3\n",
      "7\n",
      "2\n",
      "0\n",
      "1\n",
      "7\n"
     ]
    }
   ],
   "source": [
    "arr1 = [1,2,3,4,5,6,7]\n",
    "arr2 = [3,4,5,2,1,6]\n",
    "result = finder(arr1,arr2)"
   ]
  },
  {
   "cell_type": "code",
   "execution_count": 9,
   "metadata": {},
   "outputs": [
    {
     "name": "stdout",
     "output_type": "stream",
     "text": [
      "7\n"
     ]
    }
   ],
   "source": [
    "print(result)"
   ]
  },
  {
   "cell_type": "code",
   "execution_count": 12,
   "metadata": {},
   "outputs": [
    {
     "name": "stdout",
     "output_type": "stream",
     "text": [
      "5\n",
      "0\n",
      "5\n",
      "0\n",
      "5\n",
      "0\n",
      "5\n",
      "0\n",
      "5\n",
      "0\n",
      "5\n",
      "0\n",
      "5\n",
      "0\n",
      "5\n",
      "0\n",
      "5\n",
      "0\n",
      "5\n",
      "0\n",
      "5\n",
      "0\n",
      "5\n",
      "0\n",
      "5\n",
      "0\n",
      "5\n",
      "0\n",
      "5\n",
      "0\n"
     ]
    }
   ],
   "source": [
    "arr1 = [5,5,5,5,5,5,5,5,5,5,5,5,5,5,5]\n",
    "arr2 = [5,5,5,5,5,5,5,5,5,5,5,5,5,5,5]\n",
    "result = finder(arr1,arr2)"
   ]
  },
  {
   "cell_type": "code",
   "execution_count": 13,
   "metadata": {},
   "outputs": [
    {
     "name": "stdout",
     "output_type": "stream",
     "text": [
      "0\n"
     ]
    }
   ],
   "source": [
    "print(result)"
   ]
  }
 ],
 "metadata": {
  "kernelspec": {
   "display_name": "Python 3",
   "language": "python",
   "name": "python3"
  },
  "language_info": {
   "codemirror_mode": {
    "name": "ipython",
    "version": 3
   },
   "file_extension": ".py",
   "mimetype": "text/x-python",
   "name": "python",
   "nbconvert_exporter": "python",
   "pygments_lexer": "ipython3",
   "version": "3.5.2"
  }
 },
 "nbformat": 4,
 "nbformat_minor": 2
}
