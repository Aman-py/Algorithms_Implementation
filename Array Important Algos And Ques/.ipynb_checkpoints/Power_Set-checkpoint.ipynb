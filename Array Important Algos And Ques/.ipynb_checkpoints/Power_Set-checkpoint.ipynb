{
 "cells": [
  {
   "cell_type": "code",
   "execution_count": 10,
   "metadata": {},
   "outputs": [],
   "source": [
    "def powerset(txt):\n",
    "    l = len(txt)\n",
    "    arr = []\n",
    "    for i in range(l):\n",
    "        for j in range(i,l):\n",
    "            arr.append(txt[i:j+1])\n",
    "    return arr"
   ]
  },
  {
   "cell_type": "code",
   "execution_count": 11,
   "metadata": {},
   "outputs": [
    {
     "data": {
      "text/plain": [
       "['a',\n",
       " 'ab',\n",
       " 'abc',\n",
       " 'abcd',\n",
       " 'abcde',\n",
       " 'abcdef',\n",
       " 'b',\n",
       " 'bc',\n",
       " 'bcd',\n",
       " 'bcde',\n",
       " 'bcdef',\n",
       " 'c',\n",
       " 'cd',\n",
       " 'cde',\n",
       " 'cdef',\n",
       " 'd',\n",
       " 'de',\n",
       " 'def',\n",
       " 'e',\n",
       " 'ef',\n",
       " 'f']"
      ]
     },
     "execution_count": 11,
     "metadata": {},
     "output_type": "execute_result"
    }
   ],
   "source": [
    "txt ='abcdef'\n",
    "powerset(txt)"
   ]
  },
  {
   "cell_type": "code",
   "execution_count": 1,
   "metadata": {},
   "outputs": [],
   "source": [
    "def combinations(arr):\n",
    "    n = len(arr)\n",
    "    k = 2**n\n",
    "    result = []\n",
    "    for i in range(k):\n",
    "        temp = []\n",
    "        for j in range(n):\n",
    "            if (i & pow(2,j)):\n",
    "                temp.append(arr[j])\n",
    "        result.append(temp)\n",
    "    return result"
   ]
  },
  {
   "cell_type": "code",
   "execution_count": 2,
   "metadata": {},
   "outputs": [
    {
     "data": {
      "text/plain": [
       "[[], [1], [2], [1, 2], [3], [1, 3], [2, 3], [1, 2, 3]]"
      ]
     },
     "execution_count": 2,
     "metadata": {},
     "output_type": "execute_result"
    }
   ],
   "source": [
    "arr = [1,2,3,]\n",
    "combinations(arr)"
   ]
  },
  {
   "cell_type": "code",
   "execution_count": 7,
   "metadata": {},
   "outputs": [
    {
     "name": "stdout",
     "output_type": "stream",
     "text": [
      "2\n",
      "2\n",
      "3 3\n",
      "0\n",
      "3\n",
      "1 2 3\n",
      "0\n"
     ]
    }
   ],
   "source": [
    "'''\n",
    "# Sample code to perform I/O:\n",
    "\n",
    "name = input()                  # Reading input from STDIN\n",
    "print('Hi, %s.' % name)         # Writing output to STDOUT\n",
    "\n",
    "# Warning: Printing unwanted or ill-formatted data to output will cause the test cases to fail\n",
    "'''\n",
    "\n",
    "# Write your code here\n",
    "def xor(arr):\n",
    "    b = arr[0]\n",
    "    for i in arr[1:]:\n",
    "        b = b^i\n",
    "    return b\n",
    "def combinations(arr):\n",
    "    n = len(arr)\n",
    "    k = 2**n\n",
    "    result = []\n",
    "    for i in range(k):\n",
    "        temp = []\n",
    "        for j in range(n):\n",
    "            if (i & pow(2,j)):\n",
    "                temp.append(arr[j])\n",
    "        result.append(temp)\n",
    "    return result\n",
    "t = int(input())\n",
    "for i in range(t):\n",
    "    n = int(input())\n",
    "    arr = list(map(int,input().split()))\n",
    "    result = combinations(arr)\n",
    "    final = []\n",
    "    for j in result:\n",
    "        if j==[]:\n",
    "            pass\n",
    "        else:\n",
    "            k = xor(j)\n",
    "            final.append(k)\n",
    "    print(xor(final))"
   ]
  }
 ],
 "metadata": {
  "kernelspec": {
   "display_name": "Python 3",
   "language": "python",
   "name": "python3"
  },
  "language_info": {
   "codemirror_mode": {
    "name": "ipython",
    "version": 3
   },
   "file_extension": ".py",
   "mimetype": "text/x-python",
   "name": "python",
   "nbconvert_exporter": "python",
   "pygments_lexer": "ipython3",
   "version": "3.5.2"
  }
 },
 "nbformat": 4,
 "nbformat_minor": 2
}
