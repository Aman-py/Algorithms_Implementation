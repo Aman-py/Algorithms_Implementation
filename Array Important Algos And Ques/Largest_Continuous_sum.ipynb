{
 "cells": [
  {
   "cell_type": "code",
   "execution_count": 9,
   "metadata": {},
   "outputs": [],
   "source": [
    "def LCS(arr):\n",
    "    \n",
    "    '''function is used to find\n",
    "       largest continuous sum \n",
    "       in array'''\n",
    "    \n",
    "    temp = []\n",
    "    \n",
    "    n = len(arr)\n",
    "    \n",
    "    count = 0\n",
    "    \n",
    "    counter = -1\n",
    "    \n",
    "    for i in range(n):\n",
    "        \n",
    "        count = arr[i] + count\n",
    "        \n",
    "        if count < 0:\n",
    "            counter = i\n",
    "        \n",
    "        temp.append(count)\n",
    "        \n",
    "    return print(max(temp),(counter+1,temp.index(max(temp))))"
   ]
  },
  {
   "cell_type": "code",
   "execution_count": 10,
   "metadata": {},
   "outputs": [
    {
     "name": "stdout",
     "output_type": "stream",
     "text": [
      "29 (0, 6)\n"
     ]
    }
   ],
   "source": [
    "arr = [1,2,-1,3,4,10,10,-10,-1]\n",
    "result = LCS(arr)"
   ]
  }
 ],
 "metadata": {
  "kernelspec": {
   "display_name": "Python 3",
   "language": "python",
   "name": "python3"
  },
  "language_info": {
   "codemirror_mode": {
    "name": "ipython",
    "version": 3
   },
   "file_extension": ".py",
   "mimetype": "text/x-python",
   "name": "python",
   "nbconvert_exporter": "python",
   "pygments_lexer": "ipython3",
   "version": "3.5.2"
  }
 },
 "nbformat": 4,
 "nbformat_minor": 2
}
