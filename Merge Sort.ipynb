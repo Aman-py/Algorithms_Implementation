{
 "cells": [
  {
   "cell_type": "code",
   "execution_count": 1,
   "metadata": {},
   "outputs": [],
   "source": [
    "def merge(l,r,arr):\n",
    "    nl = len(l)\n",
    "    nr = len(r)\n",
    "    i,j,k=0,0,0\n",
    "    while i<nl and j<nr:\n",
    "        if l[i]<=r[j]:\n",
    "            arr[k] = l[i]\n",
    "            i+=1\n",
    "        else:\n",
    "            arr[k]=r[j]\n",
    "            j+=1\n",
    "        k+=1\n",
    "    while i<nl:\n",
    "        arr[k]=l[i]\n",
    "        k+=1\n",
    "        i+=1\n",
    "    while j<nr:\n",
    "        arr[k]=r[j]\n",
    "        k+=1\n",
    "        j+=1\n",
    "    return arr"
   ]
  },
  {
   "cell_type": "code",
   "execution_count": 2,
   "metadata": {},
   "outputs": [],
   "source": [
    "def mergesort(arr):\n",
    "    n = len(arr)\n",
    "    if n<2:\n",
    "        return arr\n",
    "    else:\n",
    "        mid = int(n/2)\n",
    "        l = arr[:mid]\n",
    "        r = arr[mid:]\n",
    "        mergesort(l)\n",
    "        mergesort(r)\n",
    "        merge(l,r,arr)\n",
    "    return arr"
   ]
  },
  {
   "cell_type": "code",
   "execution_count": 3,
   "metadata": {},
   "outputs": [],
   "source": [
    "arr=[2,4,1,6,8,5,3,7]\n",
    "result= mergesort(arr)"
   ]
  },
  {
   "cell_type": "code",
   "execution_count": 4,
   "metadata": {},
   "outputs": [
    {
     "name": "stdout",
     "output_type": "stream",
     "text": [
      "[1, 2, 3, 4, 5, 6, 7, 8]\n"
     ]
    }
   ],
   "source": [
    "print(result)"
   ]
  },
  {
   "cell_type": "code",
   "execution_count": 5,
   "metadata": {},
   "outputs": [],
   "source": [
    "arr2=[38,27,43,3,9,82,10]\n",
    "result_f=mergesort(arr2)"
   ]
  },
  {
   "cell_type": "code",
   "execution_count": 6,
   "metadata": {},
   "outputs": [
    {
     "name": "stdout",
     "output_type": "stream",
     "text": [
      "[3, 9, 10, 27, 38, 43, 82]\n"
     ]
    }
   ],
   "source": [
    "print(result_f)"
   ]
  },
  {
   "cell_type": "code",
   "execution_count": 10,
   "metadata": {},
   "outputs": [
    {
     "name": "stdout",
     "output_type": "stream",
     "text": [
      "Given array is\n",
      "12\n",
      "11\n",
      "13\n",
      "5\n",
      "6\n",
      "7\n",
      "\n",
      "\n",
      "Sorted array is\n",
      "5\n",
      "6\n",
      "7\n",
      "11\n",
      "12\n",
      "13\n"
     ]
    }
   ],
   "source": [
    "#  GeeksFORGeeks Implementaion\n",
    "def merge(arr, l, m, r):\n",
    "    n1 =int(m - l + 1)\n",
    "    n2 = int(r- m)\n",
    "    L = [0] * (n1)\n",
    "    R = [0] * (n2)\n",
    "    for i in range(0 , n1):\n",
    "        L[i] = arr[l + i]\n",
    "    for j in range(0 , n2):\n",
    "        R[j] = arr[m + 1 + j]\n",
    "    i = 0 \n",
    "    j = 0  \n",
    "    k = l \n",
    "    while i < n1 and j < n2 :\n",
    "        if L[i] <= R[j]:\n",
    "            arr[k] = L[i]\n",
    "            i += 1\n",
    "        else:\n",
    "            arr[k] = R[j]\n",
    "            j += 1\n",
    "        k += 1\n",
    "    while i < n1:\n",
    "        arr[k] = L[i]\n",
    "        i += 1\n",
    "        k += 1\n",
    "    while j < n2:\n",
    "        arr[k] = R[j]\n",
    "        j += 1\n",
    "        k += 1\n",
    "def mergeSort(arr,l,r):\n",
    "    if l < r:\n",
    "        m = int((l+(r-1))/2)\n",
    "        mergeSort(arr, l, m)\n",
    "        mergeSort(arr, m+1, r)\n",
    "        merge(arr, l, m, r)\n",
    "arr = [12, 11, 13, 5, 6, 7]\n",
    "n = len(arr)\n",
    "print (\"Given array is\")\n",
    "for i in range(n):\n",
    "    print (\"%d\" %arr[i]), \n",
    "mergeSort(arr,0,n-1)\n",
    "print (\"\\n\\nSorted array is\")\n",
    "for i in range(n):\n",
    "    print (\"%d\" %arr[i]),"
   ]
  },
  {
   "cell_type": "code",
   "execution_count": null,
   "metadata": {},
   "outputs": [],
   "source": []
  }
 ],
 "metadata": {
  "kernelspec": {
   "display_name": "Python 3",
   "language": "python",
   "name": "python3"
  },
  "language_info": {
   "codemirror_mode": {
    "name": "ipython",
    "version": 3
   },
   "file_extension": ".py",
   "mimetype": "text/x-python",
   "name": "python",
   "nbconvert_exporter": "python",
   "pygments_lexer": "ipython3",
   "version": "3.5.2"
  }
 },
 "nbformat": 4,
 "nbformat_minor": 2
}
