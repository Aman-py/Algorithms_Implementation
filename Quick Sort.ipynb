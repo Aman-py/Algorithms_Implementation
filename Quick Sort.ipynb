{
 "cells": [
  {
   "cell_type": "code",
   "execution_count": 51,
   "metadata": {},
   "outputs": [],
   "source": [
    "def partiton(arr,low,high):\n",
    "    pi = arr[high]\n",
    "    i = low-1\n",
    "    for k in range(low,high):\n",
    "        if arr[k]<=pi:\n",
    "            i = i+1\n",
    "            arr[k],arr[i]=arr[i],arr[k]\n",
    "    arr[high],arr[i+1]=arr[i+1],arr[high]\n",
    "    return i+1\n"
   ]
  },
  {
   "cell_type": "code",
   "execution_count": 52,
   "metadata": {},
   "outputs": [],
   "source": [
    "def quicksort(arr,low,high):\n",
    "    \n",
    "    if low<high:\n",
    "        \n",
    "        pi = partiton(arr,low,high)\n",
    "        \n",
    "        quicksort(arr,low,pi-1)\n",
    "        quicksort(arr,pi+1,high)\n",
    "    return arr"
   ]
  },
  {
   "cell_type": "code",
   "execution_count": 53,
   "metadata": {},
   "outputs": [],
   "source": [
    "arr=[76,56,35,76,78,46,87,83,57,97]\n",
    "low = 0\n",
    "high = len(arr)-1"
   ]
  },
  {
   "cell_type": "code",
   "execution_count": 54,
   "metadata": {},
   "outputs": [
    {
     "name": "stdout",
     "output_type": "stream",
     "text": [
      "[35, 46, 56, 57, 76, 76, 78, 83, 87, 97]\n"
     ]
    }
   ],
   "source": [
    "result=quicksort(arr,low,high)\n",
    "print(result)"
   ]
  },
  {
   "cell_type": "code",
   "execution_count": 55,
   "metadata": {},
   "outputs": [
    {
     "name": "stdout",
     "output_type": "stream",
     "text": [
      "Sorted array is:\n",
      "35\n",
      "46\n",
      "56\n",
      "57\n",
      "76\n",
      "76\n",
      "78\n",
      "83\n",
      "87\n",
      "97\n"
     ]
    }
   ],
   "source": [
    "\n",
    "def partition(arr,low,high):\n",
    "    i = ( low-1 )         \n",
    "    pivot = arr[high]     \n",
    "    for j in range(low , high):\n",
    "        if   arr[j] <= pivot:\n",
    "            i = i+1\n",
    "            arr[i],arr[j] = arr[j],arr[i]\n",
    " \n",
    "    arr[i+1],arr[high] = arr[high],arr[i+1]\n",
    "    return ( i+1 )\n",
    "\n",
    "def quickSort(arr,low,high):\n",
    "    if low < high:\n",
    "        pi = partition(arr,low,high)\n",
    "        quickSort(arr, low, pi-1)\n",
    "        quickSort(arr, pi+1, high)\n",
    " \n",
    "# Driver code to test above\n",
    "arr = [76,56,35,76,78,46,87,83,57,97]\n",
    "n = len(arr)\n",
    "quickSort(arr,0,n-1)\n",
    "print (\"Sorted array is:\")\n",
    "for i in range(n):\n",
    "    print (\"%d\" %arr[i]),"
   ]
  },
  {
   "cell_type": "code",
   "execution_count": null,
   "metadata": {},
   "outputs": [],
   "source": []
  }
 ],
 "metadata": {
  "kernelspec": {
   "display_name": "Python 3",
   "language": "python",
   "name": "python3"
  },
  "language_info": {
   "codemirror_mode": {
    "name": "ipython",
    "version": 3
   },
   "file_extension": ".py",
   "mimetype": "text/x-python",
   "name": "python",
   "nbconvert_exporter": "python",
   "pygments_lexer": "ipython3",
   "version": "3.5.2"
  }
 },
 "nbformat": 4,
 "nbformat_minor": 2
}
