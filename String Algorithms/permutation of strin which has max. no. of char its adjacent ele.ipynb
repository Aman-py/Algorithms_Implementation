{
 "cells": [
  {
   "cell_type": "code",
   "execution_count": 4,
   "metadata": {},
   "outputs": [],
   "source": [
    "def findperm(s):\n",
    "    \n",
    "    lnth = len(s)\n",
    "    s = sorted(s)\n",
    "    arr=arr2 = [0]*lnth\n",
    "    d= {'u': 21, 'd': 4, 'z': 26, 'a': 1, 'f': 6, 'b': 2, 'q': 17, 'm': 13, 't': 20, 's': 19, 'v': 22, 'c': 3, 'g': 7, 'r': 18, 'o': 15, 'p': 16, 'i': 9, 'x': 24, 'e': 5, 'h': 8, 'j': 10, 'k': 11, 'y': 25, 'w': 23, 'l': 12, 'n': 14}\n",
    "    \n",
    "    for i in range(0,lnth):\n",
    "        arr[i] = d[s[i]]\n",
    "    for j in range(0,lnth,2):\n",
    "        arr2[j] = arr[]"
   ]
  },
  {
   "cell_type": "code",
   "execution_count": 14,
   "metadata": {},
   "outputs": [],
   "source": [
    "arr = [0]*5"
   ]
  },
  {
   "cell_type": "code",
   "execution_count": 15,
   "metadata": {},
   "outputs": [
    {
     "data": {
      "text/plain": [
       "[0, 0, 0, 0, 0]"
      ]
     },
     "execution_count": 15,
     "metadata": {},
     "output_type": "execute_result"
    }
   ],
   "source": [
    "arr"
   ]
  },
  {
   "cell_type": "code",
   "execution_count": 16,
   "metadata": {},
   "outputs": [],
   "source": [
    "for i in range(0,5,2):\n",
    "    arr[i] = i"
   ]
  },
  {
   "cell_type": "code",
   "execution_count": 17,
   "metadata": {},
   "outputs": [
    {
     "data": {
      "text/plain": [
       "[0, 0, 2, 0, 4]"
      ]
     },
     "execution_count": 17,
     "metadata": {},
     "output_type": "execute_result"
    }
   ],
   "source": [
    "arr"
   ]
  },
  {
   "cell_type": "code",
   "execution_count": null,
   "metadata": {},
   "outputs": [],
   "source": []
  }
 ],
 "metadata": {
  "kernelspec": {
   "display_name": "Python 3",
   "language": "python",
   "name": "python3"
  },
  "language_info": {
   "codemirror_mode": {
    "name": "ipython",
    "version": 3
   },
   "file_extension": ".py",
   "mimetype": "text/x-python",
   "name": "python",
   "nbconvert_exporter": "python",
   "pygments_lexer": "ipython3",
   "version": "3.5.2"
  }
 },
 "nbformat": 4,
 "nbformat_minor": 2
}
