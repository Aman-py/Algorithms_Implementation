{
 "cells": [
  {
   "cell_type": "code",
   "execution_count": 17,
   "metadata": {},
   "outputs": [],
   "source": [
    "# Source :: https://ivanyu.me/blog/2013/10/15/z-algorithm/\n",
    "def z_advanced(s):\n",
    "    \"\"\"An advanced computation of Z-values of a string.\"\"\"\n",
    " \n",
    "    Z = [0] * len(s)\n",
    "    Z[0] = len(s)\n",
    " \n",
    "    rt = 0\n",
    "    lt = 0\n",
    " \n",
    "    for k in range(1, len(s)):\n",
    "        if k > rt:\n",
    "            # If k is outside the current Z-box, do naive computation.\n",
    "            n = 0\n",
    "            while n + k < len(s) and s[n] == s[n+k]:\n",
    "                n += 1\n",
    "            Z[k] = n\n",
    "            if n > 0:\n",
    "                lt = k\n",
    "                rt = k+n-1\n",
    "        else:\n",
    "            # If k is inside the current Z-box, consider two cases.\n",
    " \n",
    "            p = k - lt  # Pair index.\n",
    "            right_part_len = rt - k + 1\n",
    " \n",
    "            if Z[p] < right_part_len:\n",
    "                Z[k] = Z[p]\n",
    "            else:\n",
    "                i = rt + 1\n",
    "                while i < len(s) and s[i] == s[i - k]:\n",
    "                    i += 1\n",
    "                Z[k] = i - k\n",
    " \n",
    "                lt = k\n",
    "                rt = i - 1\n",
    "    return Z"
   ]
  },
  {
   "cell_type": "code",
   "execution_count": 24,
   "metadata": {},
   "outputs": [
    {
     "name": "stdout",
     "output_type": "stream",
     "text": [
      "[19, 1, 0, 0, 4, 1, 0, 0, 0, 8, 1, 0, 0, 5, 1, 0, 0, 1, 0]\n"
     ]
    }
   ],
   "source": [
    "txt = 'aabxaabxcaabxaabxay'\n",
    "result = z(txt)\n",
    "print(result)"
   ]
  },
  {
   "cell_type": "code",
   "execution_count": 23,
   "metadata": {},
   "outputs": [],
   "source": [
    "# Self Implemented\n",
    "def z(s):\n",
    "    Z = [len(s)]\n",
    " \n",
    "    for k in range(1, len(s)):\n",
    "        n = 0\n",
    "        while n + k < len(s) and s[n] == s[n + k]:\n",
    "            n += 1\n",
    "        Z.append(n)\n",
    " \n",
    "    return Z"
   ]
  },
  {
   "cell_type": "code",
   "execution_count": 28,
   "metadata": {},
   "outputs": [],
   "source": [
    "def patmatch(patt,txt):\n",
    "    m = len(patt)\n",
    "    con = patt+'$'+txt\n",
    "    zarr = z_advanced(con)\n",
    "    arr = []\n",
    "    while m in zarr:\n",
    "        k = zarr.index(m)\n",
    "        zarr[k] = '$'\n",
    "        d = k-m-1\n",
    "        arr.append(d)\n",
    "    return arr"
   ]
  },
  {
   "cell_type": "code",
   "execution_count": 29,
   "metadata": {},
   "outputs": [],
   "source": [
    "patt = \"GEEK\"\n",
    "txt = \"GEEKS FOR GEEKS\"\n",
    "result = patmatch(patt,txt)"
   ]
  },
  {
   "cell_type": "code",
   "execution_count": 30,
   "metadata": {},
   "outputs": [
    {
     "name": "stdout",
     "output_type": "stream",
     "text": [
      "[0, 10]\n"
     ]
    }
   ],
   "source": [
    "print(result)"
   ]
  }
 ],
 "metadata": {
  "kernelspec": {
   "display_name": "Python 3",
   "language": "python",
   "name": "python3"
  },
  "language_info": {
   "codemirror_mode": {
    "name": "ipython",
    "version": 3
   },
   "file_extension": ".py",
   "mimetype": "text/x-python",
   "name": "python",
   "nbconvert_exporter": "python",
   "pygments_lexer": "ipython3",
   "version": "3.5.2"
  }
 },
 "nbformat": 4,
 "nbformat_minor": 2
}
