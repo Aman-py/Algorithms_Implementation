{
 "cells": [
  {
   "cell_type": "code",
   "execution_count": 8,
   "metadata": {},
   "outputs": [],
   "source": [
    "def isbalance(s1,s2):\n",
    "    \n",
    "    '''Given two bracket sequences S1 and S2 consisting\n",
    "    of ‘(‘ and ‘)’. The task is to check if the string \n",
    "    obtained by concatenating both the sequences is ba-\n",
    "    lanced or not. Concatenation can be done by s1+s2 \n",
    "    or s2+s1'''\n",
    "    \n",
    "    string = s1+s2\n",
    "    \n",
    "    counter = 0\n",
    "    \n",
    "    for _ in string:\n",
    "        \n",
    "        if _ == '(':\n",
    "            \n",
    "            counter=counter+1\n",
    "        \n",
    "        elif _ == ')':\n",
    "            \n",
    "            counter=counter-1\n",
    "        \n",
    "        if counter < 0:\n",
    "            \n",
    "            return False\n",
    "    \n",
    "    if counter > 0:\n",
    "        \n",
    "        return False\n",
    "    \n",
    "    return True\n",
    "\n",
    "def main(s1,s2):\n",
    "    \n",
    "    '''main function to check concatenated \n",
    "       string is balanced or not balanced'''\n",
    "    \n",
    "    if isbalance(s1,s2) or isbalance(s2,s1):\n",
    "        \n",
    "        print('Balance')\n",
    "    \n",
    "    else:\n",
    "        \n",
    "        print('No Balance')"
   ]
  },
  {
   "cell_type": "code",
   "execution_count": 9,
   "metadata": {},
   "outputs": [
    {
     "name": "stdout",
     "output_type": "stream",
     "text": [
      "Balance\n"
     ]
    }
   ],
   "source": [
    "s1=')()(())))'\n",
    "s2='(()(()('\n",
    "main(s1,s2)"
   ]
  },
  {
   "cell_type": "code",
   "execution_count": 10,
   "metadata": {},
   "outputs": [
    {
     "name": "stdout",
     "output_type": "stream",
     "text": [
      "No Balance\n"
     ]
    }
   ],
   "source": [
    "s1 = '(()))('\n",
    "s2 = '())())'\n",
    "main(s1,s2)"
   ]
  }
 ],
 "metadata": {
  "kernelspec": {
   "display_name": "Python 3",
   "language": "python",
   "name": "python3"
  },
  "language_info": {
   "codemirror_mode": {
    "name": "ipython",
    "version": 3
   },
   "file_extension": ".py",
   "mimetype": "text/x-python",
   "name": "python",
   "nbconvert_exporter": "python",
   "pygments_lexer": "ipython3",
   "version": "3.5.2"
  }
 },
 "nbformat": 4,
 "nbformat_minor": 2
}
