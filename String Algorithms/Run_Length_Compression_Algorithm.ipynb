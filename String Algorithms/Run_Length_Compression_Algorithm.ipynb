{
 "cells": [
  {
   "cell_type": "code",
   "execution_count": 4,
   "metadata": {},
   "outputs": [],
   "source": [
    "def compress(s):\n",
    "    \n",
    "    '''This algorithm is used to compress the string\n",
    "       something like this if a string is \"AAAABBBCCC\n",
    "       then compressed string will be A4B3C3'''\n",
    "    \n",
    "    string = ''\n",
    "    lnth = len(s)\n",
    "    \n",
    "    if lnth == 0:\n",
    "        \n",
    "        return 0\n",
    "    \n",
    "    elif lnth ==1:\n",
    "        \n",
    "        return s+'1'\n",
    "    \n",
    "    frst = s[0]\n",
    "    cntr = 1\n",
    "    i = 1\n",
    "    \n",
    "    while i < lnth:\n",
    "         \n",
    "        if s[i] == s[i-1]:\n",
    "            \n",
    "            cntr+=1\n",
    "        else:\n",
    "            \n",
    "            string = string + s[i-1] + str(cntr)\n",
    "            cntr = 1\n",
    "        \n",
    "        i = i + 1\n",
    "        \n",
    "    string = string + s[i-1] + str(cntr)\n",
    "    \n",
    "    return string"
   ]
  },
  {
   "cell_type": "code",
   "execution_count": 5,
   "metadata": {},
   "outputs": [],
   "source": [
    "s = 'AAAABBBCCC'\n",
    "result = compress(s)"
   ]
  },
  {
   "cell_type": "code",
   "execution_count": 6,
   "metadata": {},
   "outputs": [
    {
     "name": "stdout",
     "output_type": "stream",
     "text": [
      "A4B3C3\n"
     ]
    }
   ],
   "source": [
    "print(result)"
   ]
  },
  {
   "cell_type": "code",
   "execution_count": 7,
   "metadata": {},
   "outputs": [
    {
     "name": "stdout",
     "output_type": "stream",
     "text": [
      "a22b21c15220112915\n"
     ]
    }
   ],
   "source": [
    "strng = 'aaaaaaaaaaaaaaaaaaaaaabbbbbbbbbbbbbbbbbbbbbccccccccccccccc22222222222222222222111111111111999999999999999'\n",
    "print(compress(strng))"
   ]
  }
 ],
 "metadata": {
  "kernelspec": {
   "display_name": "Python 3",
   "language": "python",
   "name": "python3"
  },
  "language_info": {
   "codemirror_mode": {
    "name": "ipython",
    "version": 3
   },
   "file_extension": ".py",
   "mimetype": "text/x-python",
   "name": "python",
   "nbconvert_exporter": "python",
   "pygments_lexer": "ipython3",
   "version": "3.5.2"
  }
 },
 "nbformat": 4,
 "nbformat_minor": 2
}
