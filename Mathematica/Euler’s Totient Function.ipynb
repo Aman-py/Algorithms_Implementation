{
 "cells": [
  {
   "cell_type": "code",
   "execution_count": 1,
   "metadata": {},
   "outputs": [],
   "source": [
    "from math import *"
   ]
  },
  {
   "cell_type": "code",
   "execution_count": 7,
   "metadata": {},
   "outputs": [],
   "source": [
    "def euler(n):\n",
    "    \n",
    "    '''Euler’s Totient function ?(n) for an \n",
    "    input n is count of numbers in {1, 2, 3, \n",
    "    …, n} that are relatively prime to n, \n",
    "    i.e., the numbers whose GCD (Greatest \n",
    "    Common Divisor) with n is 1.'''\n",
    "\n",
    "    \n",
    "    \n",
    "    count = n\n",
    "    p = 2\n",
    "    \n",
    "    while p*p<=n:\n",
    "        \n",
    "        if n%p == 0:\n",
    "            \n",
    "            count = count*(1-(1/p))\n",
    "            p+=1\n",
    "        \n",
    "        else:\n",
    "            p+=1\n",
    "    return count"
   ]
  },
  {
   "cell_type": "code",
   "execution_count": 10,
   "metadata": {},
   "outputs": [
    {
     "name": "stdout",
     "output_type": "stream",
     "text": [
      "7\n"
     ]
    }
   ],
   "source": [
    "n = 7\n",
    "print(euler(n))"
   ]
  },
  {
   "cell_type": "code",
   "execution_count": 11,
   "metadata": {},
   "outputs": [],
   "source": [
    "# Second Approach\n",
    "def gcd(x,y):\n",
    "        \n",
    "    if x>y:\n",
    "        x,y = y,x\n",
    "        \n",
    "    if x ==0:\n",
    "        \n",
    "        return y\n",
    "    \n",
    "    else:\n",
    "        \n",
    "        return gcd(y%x,x)"
   ]
  },
  {
   "cell_type": "code",
   "execution_count": 12,
   "metadata": {},
   "outputs": [],
   "source": [
    "def euler_fxn(n):\n",
    "    \n",
    "    count = 0\n",
    "    \n",
    "    for i in range(n):\n",
    "        \n",
    "        if gcd(i,n)==1:\n",
    "            \n",
    "            count+=1\n",
    "            \n",
    "    return count"
   ]
  },
  {
   "cell_type": "code",
   "execution_count": 15,
   "metadata": {},
   "outputs": [],
   "source": [
    "n = 7\n",
    "result = euler_fxn(n)"
   ]
  },
  {
   "cell_type": "code",
   "execution_count": 16,
   "metadata": {},
   "outputs": [
    {
     "name": "stdout",
     "output_type": "stream",
     "text": [
      "6\n"
     ]
    }
   ],
   "source": [
    "print(result)"
   ]
  }
 ],
 "metadata": {
  "kernelspec": {
   "display_name": "Python 3",
   "language": "python",
   "name": "python3"
  },
  "language_info": {
   "codemirror_mode": {
    "name": "ipython",
    "version": 3
   },
   "file_extension": ".py",
   "mimetype": "text/x-python",
   "name": "python",
   "nbconvert_exporter": "python",
   "pygments_lexer": "ipython3",
   "version": "3.5.2"
  }
 },
 "nbformat": 4,
 "nbformat_minor": 2
}
