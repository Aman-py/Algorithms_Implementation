{
 "cells": [
  {
   "cell_type": "code",
   "execution_count": 1,
   "metadata": {},
   "outputs": [],
   "source": [
    "# Naive Approach\n",
    "def prime(n):\n",
    "    for i in range(2,n):\n",
    "        if n%i==0:\n",
    "            return False\n",
    "    return True"
   ]
  },
  {
   "cell_type": "code",
   "execution_count": 2,
   "metadata": {},
   "outputs": [],
   "source": [
    "n = 44809\n",
    "result = prime(n)"
   ]
  },
  {
   "cell_type": "code",
   "execution_count": 3,
   "metadata": {},
   "outputs": [
    {
     "name": "stdout",
     "output_type": "stream",
     "text": [
      "True\n"
     ]
    }
   ],
   "source": [
    "print(result)"
   ]
  },
  {
   "cell_type": "code",
   "execution_count": 4,
   "metadata": {},
   "outputs": [],
   "source": [
    "# Optimized Method To find Prime\n",
    "# Time Complexity =O(n/2)\n",
    "def prime_(n):\n",
    "    for i in range(2,int(n/2)):\n",
    "        if n%i==0:\n",
    "            return False\n",
    "    return True"
   ]
  },
  {
   "cell_type": "code",
   "execution_count": 5,
   "metadata": {},
   "outputs": [],
   "source": [
    "n = 44809\n",
    "result = prime_(n)"
   ]
  },
  {
   "cell_type": "code",
   "execution_count": 6,
   "metadata": {},
   "outputs": [
    {
     "name": "stdout",
     "output_type": "stream",
     "text": [
      "True\n"
     ]
    }
   ],
   "source": [
    "print(result)"
   ]
  },
  {
   "cell_type": "code",
   "execution_count": 7,
   "metadata": {},
   "outputs": [],
   "source": [
    "from math import *"
   ]
  },
  {
   "cell_type": "code",
   "execution_count": 9,
   "metadata": {},
   "outputs": [],
   "source": [
    "# More Optimized Method to find prime NOs.\n",
    "# Time Complexity = O(root(n))\n",
    "def prime__(n):\n",
    "    k = sqrt(n)\n",
    "    for i in range(2,int(k)):\n",
    "        if n%k==0:\n",
    "            return False\n",
    "    return True"
   ]
  },
  {
   "cell_type": "code",
   "execution_count": 10,
   "metadata": {},
   "outputs": [],
   "source": [
    "n = 611671\n",
    "result = prime__(n)"
   ]
  },
  {
   "cell_type": "code",
   "execution_count": 11,
   "metadata": {},
   "outputs": [
    {
     "name": "stdout",
     "output_type": "stream",
     "text": [
      "True\n"
     ]
    }
   ],
   "source": [
    "print(result)"
   ]
  },
  {
   "cell_type": "code",
   "execution_count": 16,
   "metadata": {},
   "outputs": [],
   "source": [
    "# Best method To find Prime No And Self Implemented\n",
    "# Time Complexity = Minimum to all methods\n",
    "def advanceprime(n):\n",
    "    if n ==2 or n==3:\n",
    "        return False\n",
    "    elif n==5 or n==7:\n",
    "        return True\n",
    "    elif n%6 == 5 or n%6 == 1:\n",
    "        if n%5!=0 and n%7!=0:\n",
    "            return True\n",
    "    return False"
   ]
  },
  {
   "cell_type": "code",
   "execution_count": 23,
   "metadata": {},
   "outputs": [],
   "source": [
    "k = [93913 , 93923 , 93937 ,93941,93949,  93967,  93971,  93979,  93983,  93997,94007 , 94009,  94033,  94049,  94057 , 94063 , 94079 , 94099 , 94109 , 94111,94117  ,94121 , 94151 , 94153 , 94169  ,94201  ,94207  ,94219  ,94229  ,94253,\n",
    "  94261 , 94273  ,94291  ,94307  ,94309,  94321,  94327,  94331,  94343,  94349,\n",
    "  94351,  94379,  94397,  94399,  94421 , 94427 , 94433 , 94439 , 94441 , 94447,\n",
    "  94463  ,94477 , 94483 , 94513 , 94529  ,94531  ,94541  ,94543  ,94547  ,94559,\n",
    "  94561 , 94573 , 94583 , 94597 , 94603 , 94613  ,94621  ,94649  ,94651 ,94687]"
   ]
  },
  {
   "cell_type": "code",
   "execution_count": 22,
   "metadata": {},
   "outputs": [],
   "source": [
    "#Proof Of Advance Prime Algorithm\n",
    "def arr(k):\n",
    "    for i in k:\n",
    "        result = advanceprime(i)\n",
    "        if result == False:\n",
    "            return False\n",
    "    return True"
   ]
  },
  {
   "cell_type": "code",
   "execution_count": 24,
   "metadata": {},
   "outputs": [],
   "source": [
    "finalresult = arr(k)"
   ]
  },
  {
   "cell_type": "code",
   "execution_count": 25,
   "metadata": {},
   "outputs": [
    {
     "name": "stdout",
     "output_type": "stream",
     "text": [
      "True\n"
     ]
    }
   ],
   "source": [
    "print(finalresult)"
   ]
  }
 ],
 "metadata": {
  "kernelspec": {
   "display_name": "Python 3",
   "language": "python",
   "name": "python3"
  },
  "language_info": {
   "codemirror_mode": {
    "name": "ipython",
    "version": 3
   },
   "file_extension": ".py",
   "mimetype": "text/x-python",
   "name": "python",
   "nbconvert_exporter": "python",
   "pygments_lexer": "ipython3",
   "version": "3.5.2"
  }
 },
 "nbformat": 4,
 "nbformat_minor": 2
}
