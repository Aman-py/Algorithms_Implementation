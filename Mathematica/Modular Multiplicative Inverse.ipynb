{
 "cells": [
  {
   "cell_type": "code",
   "execution_count": 1,
   "metadata": {},
   "outputs": [],
   "source": [
    "'''modulo multiplicative inverse Given two integers ‘a’ and ‘m’,\n",
    "find modular multiplicative inverse of ‘a’ under modulo ‘m’.The\n",
    "modular multiplicative inverse is an integer ‘x’ such that.\n",
    "                        ax = 1(mod m)                      \n",
    "The value of x should be in {0, 1, 2, … m-1}, i.e., in the ring \n",
    "of integer modulo m.\n",
    "\n",
    "The multiplicative inverse of “a modulo m” exists if and only if \n",
    "a and m are relatively prime (i.e., if gcd(a, m) = 1).'''\n",
    "\n",
    "def modmulinverse(a,m):\n",
    "    \n",
    "    \n",
    "    for i in range(m):\n",
    "        \n",
    "        if (a*i)%m == 1:\n",
    "            return i"
   ]
  },
  {
   "cell_type": "code",
   "execution_count": 2,
   "metadata": {},
   "outputs": [],
   "source": [
    "a = 3\n",
    "m = 11\n",
    "result = modmulinverse(a,m)"
   ]
  },
  {
   "cell_type": "code",
   "execution_count": 3,
   "metadata": {},
   "outputs": [
    {
     "name": "stdout",
     "output_type": "stream",
     "text": [
      "4\n"
     ]
    }
   ],
   "source": [
    "print(result)"
   ]
  },
  {
   "cell_type": "code",
   "execution_count": 4,
   "metadata": {},
   "outputs": [],
   "source": [
    "a = 10\n",
    "m = 17\n",
    "result = modmulinverse(a,m)"
   ]
  },
  {
   "cell_type": "code",
   "execution_count": 5,
   "metadata": {},
   "outputs": [
    {
     "name": "stdout",
     "output_type": "stream",
     "text": [
      "12\n"
     ]
    }
   ],
   "source": [
    "print(result)"
   ]
  }
 ],
 "metadata": {
  "kernelspec": {
   "display_name": "Python 3",
   "language": "python",
   "name": "python3"
  },
  "language_info": {
   "codemirror_mode": {
    "name": "ipython",
    "version": 3
   },
   "file_extension": ".py",
   "mimetype": "text/x-python",
   "name": "python",
   "nbconvert_exporter": "python",
   "pygments_lexer": "ipython3",
   "version": "3.5.2"
  }
 },
 "nbformat": 4,
 "nbformat_minor": 2
}
