{
 "cells": [
  {
   "cell_type": "code",
   "execution_count": null,
   "metadata": {},
   "outputs": [],
   "source": [
    "#Given a number n, print all primes smaller than or equal to n. It is also given that n is a small number\n",
    "def sieve(n):\n",
    "    l = [1]*(n+1)\n",
    "    l[0] = 0\n",
    "    l[1] = 0\n",
    "    prime = []\n",
    "    for i in range(n+1):\n",
    "        if l[i] ==1:\n",
    "            l[i] = i\n",
    "            prime.append(l)\n",
    "            for j in range(i+1,n+1):\n",
    "                if j%i == 0:\n",
    "                    l[j] = 0\n",
    "    "
   ]
  }
 ],
 "metadata": {
  "kernelspec": {
   "display_name": "Python 3",
   "language": "python",
   "name": "python3"
  },
  "language_info": {
   "codemirror_mode": {
    "name": "ipython",
    "version": 3
   },
   "file_extension": ".py",
   "mimetype": "text/x-python",
   "name": "python",
   "nbconvert_exporter": "python",
   "pygments_lexer": "ipython3",
   "version": "3.5.2"
  }
 },
 "nbformat": 4,
 "nbformat_minor": 2
}
